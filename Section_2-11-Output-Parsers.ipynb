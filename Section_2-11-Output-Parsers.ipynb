{
 "cells": [
  {
   "cell_type": "markdown",
   "id": "5a922e01",
   "metadata": {},
   "source": [
    "# Output Parsers\n",
    "\n",
    "Output parsers in Langchain are specialized classes that transform the output of language models (LLMs) into a more suitable format. This is useful when using LLMs to generate structured data.\n",
    "\n",
    "→<i>(Trình phân tích cú pháp đầu ra trong Langchain là các lớp chuyên biệt giúp chuyển đổi đầu ra của mô hình ngôn ngữ (LLM) sang định dạng phù hợp hơn. Điều này hữu ích khi sử dụng LLM để tạo dữ liệu có cấu trúc.)</i>\n",
    "\n",
    "There are two main methods an output parser must implement:\n",
    "(Có hai phương thức chính mà output parser phải triển khai:)\n",
    "\n",
    "- <b>Get format instructions</b>: a method that returns a string containing instructions for how the output of a language model should be formatted (một method trả về một chuỗi chứa hướng dẫn về cách định dạng đầu ra của mô hình ngôn ngữ).\n",
    "- <b>Parse</b>: a method that takes in the string (assumed to be the response from a language model) and parses it into some structure. (một method lấy chuỗi (được coi là phản hồi từ mô hình ngôn ngữ) và phân tích chuỗi đó thành một cấu trúc nào đó.)"
   ]
  },
  {
   "cell_type": "markdown",
   "id": "350153fb",
   "metadata": {},
   "source": [
    "![output_parser](output-parser.png)"
   ]
  },
  {
   "cell_type": "code",
   "execution_count": 8,
   "id": "2d73ff26",
   "metadata": {},
   "outputs": [],
   "source": [
    "import os\n",
    "from dotenv import load_dotenv\n",
    "import openai\n",
    "from langchain_openai import ChatOpenAI\n",
    "from langchain.prompts import PromptTemplate"
   ]
  },
  {
   "cell_type": "code",
   "execution_count": 9,
   "id": "31755dd6",
   "metadata": {},
   "outputs": [],
   "source": [
    "# Setup model\n",
    "load_dotenv()\n",
    "api_key = os.getenv('OPENAI_API_KEY')\n",
    "openai.api_key = api_key"
   ]
  },
  {
   "cell_type": "code",
   "execution_count": 10,
   "id": "88a11029",
   "metadata": {},
   "outputs": [],
   "source": [
    "model = ChatOpenAI(temperature=0)"
   ]
  },
  {
   "cell_type": "markdown",
   "id": "e9af252a",
   "metadata": {},
   "source": [
    "## CSV Parser\n",
    "\n",
    "This output parser can be used to return a list of comma-separated items.\n",
    "\n",
    "<i>(Trình phân tích cú pháp đầu ra này có thể được sử dụng khi bạn muốn trả về danh sách các mục được phân tách bằng dấu phẩy.)</i>"
   ]
  },
  {
   "cell_type": "code",
   "execution_count": 11,
   "id": "2ab504d8",
   "metadata": {},
   "outputs": [
    {
     "data": {
      "text/plain": [
       "PromptTemplate(input_variables=['places'], partial_variables={'format_instructions': 'Your response should be a list of comma separated values, eg: `foo, bar, baz`'}, template='List five places {places}.\\n{format_instructions}')"
      ]
     },
     "execution_count": 11,
     "metadata": {},
     "output_type": "execute_result"
    }
   ],
   "source": [
    "from langchain.output_parsers import CommaSeparatedListOutputParser\n",
    "\n",
    "output_parser = CommaSeparatedListOutputParser()\n",
    "format_instructions = output_parser.get_format_instructions()\n",
    "prompt = PromptTemplate(\n",
    "    template=\"List five places {places}.\\n{format_instructions}\",\n",
    "    input_variables=[\"places\"],\n",
    "    partial_variables={\"format_instructions\":format_instructions}\n",
    ")\n",
    "prompt"
   ]
  },
  {
   "cell_type": "code",
   "execution_count": 12,
   "id": "11df0a82",
   "metadata": {},
   "outputs": [
    {
     "data": {
      "text/plain": [
       "['1. Amalfi Coast\\n2. Tuscany\\n3. Sicily\\n4. Lake Como\\n5. Cinque Terre']"
      ]
     },
     "execution_count": 12,
     "metadata": {},
     "output_type": "execute_result"
    }
   ],
   "source": [
    "chain = prompt | model | output_parser\n",
    "response = chain.invoke({\"places\":\"for c summer vacation in Italy\"})\n",
    "response"
   ]
  },
  {
   "cell_type": "markdown",
   "id": "5e9bc1e4",
   "metadata": {},
   "source": [
    "## JSON Parser\n",
    "\n",
    "The output parser allows users to specify a JSON schema and query LLMs for output that conforms to that schema. Keep in mind that large language models are leaky abstractions! You must use an LLM with sufficient capacity to generate well-formed JSON. In the OpenAI family, Davinci can do reliably, but Curie's ability dropped off dramatically.\n",
    "\n",
    "<i>(Trình phân tích cú pháp đầu ra cho phép người dùng chỉ định lược đồ JSON và truy vấn LLM để tìm đầu ra phù hợp với lược đồ đó. Hãy nhớ rằng các mô hình ngôn ngữ lớn là sự trừu tượng bị rò rỉ! Bạn phải sử dụng LLM có đủ dung lượng để tạo JSON đúng định dạng. Trong dòng OpenAI, Davinci có thể làm được điều đó một cách đáng tin cậy, nhưng khả năng của Curie đã giảm sút đáng kể.)</i>"
   ]
  },
  {
   "cell_type": "markdown",
   "id": "39ded131",
   "metadata": {},
   "source": [
    "### The following example uses Pydantic to declare your data model"
   ]
  },
  {
   "cell_type": "code",
   "execution_count": 13,
   "id": "1a4e4678",
   "metadata": {},
   "outputs": [],
   "source": [
    "from langchain_core.output_parsers import JsonOutputParser\n",
    "from langchain_core.pydantic_v1 import BaseModel, Field\n",
    "from langchain.prompts import PromptTemplate"
   ]
  },
  {
   "cell_type": "code",
   "execution_count": 14,
   "id": "dff8ecfc",
   "metadata": {},
   "outputs": [],
   "source": [
    "# Define your desired data structure\n",
    "class Travel(BaseModel):\n",
    "    place: str = Field(description=\"name of the places\")\n",
    "    description: str = Field(description=\"description of the place\")\n",
    "    activities: str = Field(description=\"what to do in that place\")"
   ]
  },
  {
   "cell_type": "code",
   "execution_count": 16,
   "id": "8aa7b6cd",
   "metadata": {},
   "outputs": [
    {
     "data": {
      "text/plain": [
       "{'place': 'Chamonix',\n",
       " 'description': 'Chamonix is a beautiful town located in the French Alps, known for its stunning mountain views and outdoor activities such as hiking, skiing, and mountaineering. The cool mountain air makes it a perfect destination to escape the summer heat.',\n",
       " 'activities': \"In Chamonix, you can enjoy activities such as hiking in the mountains, taking a cable car ride to see the panoramic views, exploring the charming town center with its shops and cafes, and even trying your hand at glacier climbing. It's a great place to relax and enjoy nature while staying cool in the summer.\"}"
      ]
     },
     "execution_count": 16,
     "metadata": {},
     "output_type": "execute_result"
    }
   ],
   "source": [
    "# Query intended to prompt a language model to populate the data structure\n",
    "travel_query = \"SUggest a place in France for going on trip this summer to avoid heat.\"\n",
    "# cset up a parser + inject instructions into the prompt template \n",
    "#(Thiết lập trình phân tích cú pháp + đưa hướng dẫn vào mẫu lời nhắc)\n",
    "parser = JsonOutputParser(pydantic_object=Travel)\n",
    "prompt = PromptTemplate(\n",
    "    template = \"Answer the user query.\\n{format_instructions}\\n{query}\\n\",\n",
    "    input_variables=[\"query\"],\n",
    "    partial_variables={\"format_instructions\":parser.get_format_instructions()}\n",
    ")\n",
    "chain = prompt | model | parser\n",
    "chain.invoke({\"query\":travel_query})"
   ]
  },
  {
   "cell_type": "markdown",
   "id": "43eb80ce",
   "metadata": {},
   "source": [
    "### Without Pydantic "
   ]
  },
  {
   "cell_type": "code",
   "execution_count": 17,
   "id": "013fe493",
   "metadata": {},
   "outputs": [
    {
     "data": {
      "text/plain": [
       "{'destination': 'Chamonix',\n",
       " 'reason': 'Chamonix is a great destination in France for summer as it is located in the French Alps and offers cooler temperatures compared to other parts of the country. You can enjoy outdoor activities like hiking, mountain biking, and even skiing on the glaciers. Plus, the stunning views of Mont Blanc and the surrounding mountains make it a perfect summer getaway.'}"
      ]
     },
     "execution_count": 17,
     "metadata": {},
     "output_type": "execute_result"
    }
   ],
   "source": [
    "travel_query = \"Suggest a place in France for going on trip this summer to avoid heat.\"\n",
    "parser = JsonOutputParser()\n",
    "prompt = PromptTemplate(\n",
    "    template = \"Answer the user query.\\n{format_instructions}\\n{query}\\n\",\n",
    "    input_variables=[\"query\"],\n",
    "    partial_variables={\"format_instructions\":parser.get_format_instructions()}\n",
    ")\n",
    "chain = prompt | model | parser\n",
    "chain.invoke({\"query\":travel_query})"
   ]
  },
  {
   "cell_type": "markdown",
   "id": "483e6230",
   "metadata": {},
   "source": [
    "### Structured Output Parser\n",
    "\n",
    "This output parser can be used when you want to return multiple fields. While the Pydantic/JSON parser is more powerful, this is useful for less powerful models.\n",
    "\n",
    "<i>(Trình phân tích cú pháp đầu ra này có thể được sử dụng khi bạn muốn trả về nhiều trường. Mặc dù trình phân tích cú pháp Pydantic/JSON mạnh hơn nhưng điều này lại hữu ích cho các mô hình kém mạnh mẽ hơn.)</i>"
   ]
  },
  {
   "cell_type": "code",
   "execution_count": 24,
   "id": "27088017",
   "metadata": {},
   "outputs": [
    {
     "data": {
      "text/plain": [
       "{'answer': 'Chamonix-Mont-Blanc',\n",
       " 'description': 'Chamonix-Mont-Blanc is a picturesque town located in the French Alps, known for its stunning mountain views and cooler temperatures even in the summer months. It is a popular destination for outdoor activities such as hiking, climbing, and mountain biking.',\n",
       " 'applications': 'Travelers looking to escape the heat can enjoy the refreshing mountain air and explore the beautiful landscapes of Chamonix-Mont-Blanc. The town also offers charming cafes, shops, and cultural attractions for visitors to enjoy.'}"
      ]
     },
     "execution_count": 24,
     "metadata": {},
     "output_type": "execute_result"
    }
   ],
   "source": [
    "from langchain.output_parsers import ResponseSchema, StructuredOutputParser\n",
    "travel_query = \"Suggest a place in France for going on trip this summer to avoid heat.\"\n",
    "response_schemas = [\n",
    "    ResponseSchema(name=\"answer\",description=\"answer to the user's question\"),\n",
    "    ResponseSchema(name=\"description\",description=\"detailed description on the answer topic\"),\n",
    "    ResponseSchema(name=\"applications\",description=\"real-world applications of the answer topic\") # ứng dụng thực tế của chủ đề câu trả lời\n",
    "]\n",
    "output_parser = StructuredOutputParser.from_response_schemas(response_schemas)\n",
    "format_instructions = output_parser.get_format_instructions()\n",
    "prompt = PromptTemplate(\n",
    "    template = \"Answer the user question as the best as posible.\\n{format_instructions}\\n{question}\\n\",\n",
    "    input_variables=[\"question\"],\n",
    "    partial_variables={\"format_instructions\":format_instructions}\n",
    ")\n",
    "chain = prompt | model | output_parser\n",
    "chain.invoke({\"question\":travel_query})"
   ]
  }
 ],
 "metadata": {
  "kernelspec": {
   "display_name": "Python 3 (ipykernel)",
   "language": "python",
   "name": "python3"
  },
  "language_info": {
   "codemirror_mode": {
    "name": "ipython",
    "version": 3
   },
   "file_extension": ".py",
   "mimetype": "text/x-python",
   "name": "python",
   "nbconvert_exporter": "python",
   "pygments_lexer": "ipython3",
   "version": "3.9.13"
  }
 },
 "nbformat": 4,
 "nbformat_minor": 5
}
