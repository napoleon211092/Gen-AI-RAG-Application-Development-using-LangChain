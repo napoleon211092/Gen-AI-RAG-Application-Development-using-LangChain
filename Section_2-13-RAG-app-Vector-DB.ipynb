{
 "cells": [
  {
   "cell_type": "markdown",
   "id": "d8eca029",
   "metadata": {},
   "source": [
    "### This program is intended to demo the use of the following:\n",
    "- 1. WebBaseLoader to read a webpage \n",
    "- 2. RecursiveCharacterTextSplitter to chunk the content into documents\n",
    "- 3. Convert the documents into embeddings and store into an FAISS DB\n",
    "- 4. Create a Stuff document chain, create a retrieval chain from the FAISS DB\n",
    "- 5. Create a Retreival Chain using the FAISS retreiver and document chain"
   ]
  },
  {
   "cell_type": "code",
   "execution_count": 26,
   "id": "7d50f594",
   "metadata": {},
   "outputs": [],
   "source": [
    "import os\n",
    "from dotenv import load_dotenv\n",
    "import openai\n",
    "from langchain_openai import ChatOpenAI\n",
    "from langchain.prompts import PromptTemplate"
   ]
  },
  {
   "cell_type": "code",
   "execution_count": 27,
   "id": "1f2657c5",
   "metadata": {},
   "outputs": [],
   "source": [
    "# Setup model\n",
    "load_dotenv()\n",
    "api_key = os.getenv('OPENAI_API_KEY')\n",
    "openai.api_key = api_key"
   ]
  },
  {
   "cell_type": "code",
   "execution_count": 28,
   "id": "6a9c2719",
   "metadata": {},
   "outputs": [],
   "source": [
    "llm = ChatOpenAI(temperature=0)"
   ]
  },
  {
   "cell_type": "code",
   "execution_count": 29,
   "id": "cc7a124e",
   "metadata": {},
   "outputs": [],
   "source": [
    "from langchain_community.document_loaders import WebBaseLoader\n",
    "from langchain_openai import OpenAIEmbeddings\n",
    "from langchain_community.vectorstores import FAISS\n",
    "from langchain.text_splitter import RecursiveCharacterTextSplitter\n",
    "from langchain.chains.combine_documents import create_stuff_documents_chain\n",
    "from langchain.prompts import ChatPromptTemplate\n",
    "from langchain_openai import ChatOpenAI\n",
    "from langchain_core.documents import Document\n",
    "from langchain.chains import create_retrieval_chain"
   ]
  },
  {
   "cell_type": "code",
   "execution_count": 30,
   "id": "f8e18357",
   "metadata": {},
   "outputs": [
    {
     "name": "stdout",
     "output_type": "stream",
     "text": [
      "[Document(page_content=\"\\n\\n\\n\\n\\n\\n\\n\\n\\n\\n\\n\\n\\n\\n\\n\\n\\n\\n\\n\\n\\n\\n\\n\\n\\n\\n\\n\\n\\n\\n\\n\\n\\n\\n#1 Best Gen AI Project | LangChain OpenAi GPT Chat app Project for Begineers\\n\\n\\n\\n\\n\\n\\n\\n\\n\\n\\n\\n\\n\\n\\n\\n\\n\\n\\n\\n\\n\\n\\n\\n\\n\\n\\n\\n\\n\\n\\n\\n\\n\\n\\n\\n\\n\\n\\n\\n\\n\\n\\n\\n\\n\\n\\n\\n\\n\\n\\n\\n\\n\\n\\n\\n\\n\\n\\n\\n\\n\\n\\n\\n\\n\\n\\n\\n\\n\\n\\n\\n\\n\\n\\n\\n\\n\\n\\n\\n\\n\\n  \\n\\n\\n\\n\\n\\n\\n\\n\\n \\n\\n\\n\\n\\n\\n\\n\\n\\n \\n\\n\\n\\n\\n\\n\\n\\n\\n\\nBack\\n\\n\\n\\n\\n\\n\\n\\n\\nAll Projects\\nAbout Us\\nBlogs\\nFAQs\\nEvents\\nBecome a Teacher\\nCart\\n \\n\\n\\n\\n\\n\\n\\n\\n\\n\\n\\n  \\n\\n\\n\\n\\n\\n\\n\\n\\n\\n\\t\\t\\t\\t\\t\\t\\t\\t\\t\\t\\t\\t\\t\\t\\t\\n\\t\\t\\t\\t\\t\\t\\t\\tContact us:\\n\\t\\t\\t\\t\\t\\t\\t\\t\\t\\t\\t\\t\\t\\t\\n\\n\\n \\n\\t\\t\\t\\t\\t\\t\\t\\t\\n\\t\\t\\t\\t\\t\\t\\t\\t +91 63 6273 2428\\n\\t\\t\\t\\t\\t\\t\\t\\t\\t\\t\\t\\t\\t\\t\\n\\n\\n\\n \\n\\t\\t\\t\\t\\t\\t\\t\\t\\n\\t\\t\\t\\t\\t\\t\\t\\tricha@code4x.dev\\n\\t\\t\\t\\t\\t\\t\\t\\t\\t\\t\\t\\t\\t\\t\\t\\n\\n\\n\\n\\n\\n\\n\\n\\n\\n\\n\\n\\nRegisterLogin \\n\\n\\n\\n\\n\\n\\n\\n\\n\\n\\n\\n\\n\\n\\n\\n\\n \\n\\n\\n\\n\\n\\n\\n\\n\\n\\n\\n \\n\\n\\nAll Projects\\nAbout Us\\nBlogs\\nFAQs\\nEvents\\nBecome a Teacher\\nCart\\n\\n\\n\\n\\n\\n\\n\\n\\n\\n\\n\\n\\n\\n\\n\\n\\n\\n\\n\\n\\n\\n\\n\\n\\n \\n\\n\\n\\n \\n\\nGen AI \\n\\n \\n\\nHomeAll ProjectsGen AILangChain + Vector DB + GPT 3.5 Turbo => Semantic Search Chat App (with full Code) \\n\\n\\n\\n\\n\\n\\nLangChain + Vector DB + GPT 3.5 Turbo => Semantic Search Chat App (with full Code) ðŸš€ Learn to build a Chat App that would Query and obtain responses using natural language\\nIn this course, you will learn how to build a cutting-edge Semantic Search Chat App using the latest technologies in natural language processing and vector databases. This project module takes you on a thrilling journey through the integration of the SQuAD 2.0 dataset, Pinecone vector database, LangChain framework, and OpenAI’s GPT-3.5 Turbo language model.\\n[with full Code and Video Explainers]\\nBy the end of this course, you will be able to:\\nðŸ’\\xa0 Build a LLM based App using LangChain and OpenAI GPT Chat API\\nðŸ’\\xa0 Understand the use of Vector Databases and use Pinecone Vector database for Semantic Search\\nðŸ’\\xa0 Create a LangChain Conversational Agent invoking a custom Tool with Conversational Memory\\nEnroll today and learn how to build this cool LLM Chat App using LangChain Framework, Pinecone Vector DB and OpenAI GPT! ðŸ’¼ \\n\\n\\n \\nTeacher\\n\\nCode4X \\n\\n\\n\\nCategories\\n\\nGen AI \\n\\n\\n\\n\\n\\n\\n \\n\\n\\n\\n\\n\\n\\n\\nBuild a Chat App using LangChain Framework, Pinecone Vector Database and GPT 3.5 Turbo Language Model | Langchain OpenAi Generation AI Project for BeginnersÂ\\xa0\\nThe goal of this Langchain OpenAi Project for Student is to develop a robust Semantic Search application capable of providing precise answers to user queries. This is achieved by leveraging the SQuAD 2.0 dataset, Pinecone vector database, LangChain tools and agents, and the OpenAI GPT Chat API. The application will create a searchable space for the SQuAD 2.0 dataset and enable interactive querying using natural language processing capabilities.\\nKey Components\\n\\nSQuAD 2.0 Dataset: A large-scale dataset for reading comprehension and question-answering that contains more than 150,000 question-answer pairs on 500+ articles.\\nPinecone Vector Database: A managed vector database service optimized for machine learning models. It allows for efficient similarity search, which is crucial for finding the most relevant answers to queries.\\nLangChain: A library of tools for building applications with language models. LangChain will be used for managing conversational context and integrating with the OpenAI GPT API.\\nOpenAI GPT Chat API: A state-of-the-art language model that can understand context, answer questions, and maintain a coherent conversation.\\n\\nProject Workflow | Lang Chain Generation AI Project for Beginners\\nData Preparation and Indexing\\n\\nData Ingestion: Load the SQuAD 2.0 dataset and preprocess it to extract the questions, answers, and contextual paragraphs.\\nVectorization: Use OpenAI’s embedding models to convert textual data into high-dimensional vectors.\\nUpsert into Pinecone: Upsert the vectorized data into a Pinecone index, which will allow us to perform semantic searches over the dataset.\\n\\nSemantic Search Agent Development in LangChain\\n\\nLangChain Agent: Create a LangChain Tool for Query from the Pinecone DB and a LangChain Agent that uses the Q&A Tool.\\nQuery Processing: Use LangChain’s conversational agents to process the query and generate a suitable prompt for the OpenAI GPT model.\\nVector Search: Convert the processed query into a vector using OpenAI embeddings and perform a similarity search in the Pinecone index to retrieve the most relevant context passages.\\nAnswer Generation: Pass the context passages to the OpenAI GPT Chat API to generate a natural language answer.\\nConversational Memory: Employ LangChain’s conversational memory to maintain the context of the conversation, allowing for follow-up questions and clarifications without losing the thread of the discussion.\\n\\n\\n\\n\\n\\n\\n\\n\\n\\n\\n\\n\\n\\n\\n\\n\\n\\n\\n\\n\\n\\n\\n\\t\\tFeatures\\t\\n\\n\\n\\n#langchain project for student, #langchain documentation project for beginners, #langchain openai project for beginner, #langchain project for students, #Lang Chain Generation AI Project for Beginners #Lang Chain Generation AI Project for StudentÂ\\xa0Â\\xa0\\n\\n\\n\\n\\n\\n\\n\\n\\nOverview\\n\\n\\nCurriculum\\n\\n\\n\\n\\n\\n ₹ 799.00\\n\\n        \\n        ₹ 299.00\\n    \\n\\n\\n\\n\\n\\n\\n\\n\\t\\t\\tAdd to cart\\t\\t\\n\\n\\n\\n \\n\\n\\n\\n\\n\\t\\t\\t\\t\\t\\tYou May Like\\t\\t\\t\\t\\t\\n\\n\\n\\n\\n\\n\\n\\n\\n\\n\\n\\t\\t\\tAdd to cart\\t\\t\\n\\n\\n\\n\\n\\n \\n\\nCode4X \\n\\n\\nLearn to Develop RAG Applications through LangChainðŸš€ Learn to develop RAG Applications using Large Language Models like Open AI GPT and LangChain Framework. \\r\\nIn this course, you will learn how...\\n\\n \\n\\nCode4X \\n\\n\\n19\\n\\nStudents\\n\\n\\t\\t187    \\nstudents\\n\\n\\n\\n₹ 2,399.00\\n\\t\\t\\t\\t\\t\\t₹ 465.00        \\n\\n\\n \\n\\n\\n\\n\\n\\n\\n\\n\\n\\n\\n\\t\\t\\tAdd to cart\\t\\t\\n\\n\\n\\n\\n\\n \\n\\nCode4X \\n\\n\\nData Science Project Bundle – Top 6 Projects at â‚¹799 Only!Get our top 6 Data Science Projects bundle now for just â‚¹799! ðŸš€ Dive into -\\r\\n1. Stock Price Prediction with Time Series Analysis using...\\n\\n \\n\\nCode4X \\n\\n\\n153\\n\\nStudents\\n\\n\\t\\t645    \\nstudents\\n\\n\\n\\n₹ 1,200.00\\n\\t\\t\\t\\t\\t\\t₹ 799.00        \\n\\n\\n \\n\\n\\n\\n\\n\\n\\n\\n\\n\\n\\n\\t\\t\\tAdd to cart\\t\\t\\n\\n\\n\\n\\n\\n \\n\\nCode4X \\n\\n\\nData Science Interview Preparation Program – Five Part Online SeriesFeeling lost in Data Science Interview Preparation?  Code4X's 5-week LIVE program equips you with a series of five focused guidance sessions,  weekly...\\n\\n \\n\\nCode4X \\n\\n\\n25\\n\\nStudents\\n\\n\\t\\t88    \\nstudents\\n\\n\\n\\n₹ 2,999.00\\n\\t\\t\\t\\t\\t\\t₹ 799.00        \\n\\n\\n \\n\\n\\n\\n\\n\\n\\n\\n\\n\\n\\n\\t\\t\\tAdd to cart\\t\\t\\n\\n\\n\\n\\n\\n \\n\\nCode4X \\n\\n\\nFinancial Analysis App using GPT Chat API + SERP API + Yahoo Finance API (with full Code)ðŸš€ Learn to build a Financial Analysis App for data analytics projects for students that would use OpenAI GPT LLM Turbo Chat API, Google...\\n\\n \\n\\nCode4X \\n\\n\\n10\\n\\nStudents\\n\\n\\t\\t673    \\nstudents\\n\\n\\n\\n₹ 799.00\\n\\t\\t\\t\\t\\t\\t₹ 299.00        \\n\\n\\n \\n\\n\\n\\n\\n\\n\\n\\n\\n\\n\\n\\t\\t\\tAdd to cart\\t\\t\\n\\n\\n\\n\\n\\n \\n\\nCode4X \\n\\n\\nMarketing Analytics Project for Data Science : Regression Analysis for Market Mix Modelling (with full Code)ðŸŒŸ Get ahead of the Competition in the Data Science and Data Analytics Career field. Learn how to perform a Market Mix Modelling using...\\n\\n \\n\\nCode4X \\n\\n\\n19\\n\\nStudents\\n\\n\\t\\t257    \\nstudents\\n\\n\\n\\n₹ 599.00\\n\\t\\t\\t\\t\\t\\t₹ 249.00        \\n\\n\\n \\n\\n\\n\\n\\n\\n\\n\\n\\n\\n\\n\\n\\n\\n\\n\\n ₹ 799.00\\n\\n        \\n        ₹ 299.00\\n    \\n\\n\\n\\n\\n\\n\\n\\n\\t\\t\\tAdd to cart\\t\\t\\n\\n\\n\\n\\n\\nCourse Features\\n\\n\\n\\nLectures\\n\\n\\t\\t\\t\\t\\t\\t23\\t\\t\\t\\t\\t\\n\\n\\n\\nQuizzes\\n\\n\\t\\t\\t\\t\\t\\t0\\t\\t\\t\\t\\t\\t\\n\\n\\n\\nDuration\\n15 Days\\n\\n\\n\\nSkill level\\nIntermediate\\n\\n\\n\\nLanguage\\nEnglish\\n\\n\\n\\nStudents\\n677\\n\\n\\n\\nCertificate\\nYes\\n\\n\\n\\nAssessments\\nSelf\\n\\n\\n\\n\\nShare: \\n\\n\\n\\n\\n\\n\\n\\n\\n\\n\\n\\n  \\n\\n\\n\\n\\n\\n\\n \\n \\n\\n\\n\\n\\n\\n\\n\\n\\n \\n\\t\\t\\t\\t\\t\\t\\t\\t\\n\\t\\t\\t\\t\\t\\t\\t\\t+91 63 6273 2428\\n\\t\\t\\t\\t\\t\\t\\t\\t\\t\\t\\t\\t\\t\\t\\n\\n\\n\\n \\n\\t\\t\\t\\t\\t\\t\\t\\t\\n\\t\\t\\t\\t\\t\\t\\t\\tBengaluru, INDIA\\n\\t\\t\\t\\t\\t\\t\\t\\t\\t\\t\\t\\t\\t\\t\\t\\n\\n\\n\\n\\n \\n\\t\\t\\t\\t\\t\\t\\t\\t\\n\\t\\t\\t\\t\\t\\t\\t\\tcode4x@teksands.ai\\n\\t\\t\\t\\t\\t\\t\\t\\t\\t\\t\\t\\t\\t\\t\\t\\n\\n\\n\\n\\n\\n\\n\\n\\n\\n\\n\\n\\n\\n\\n\\n\\n\\n\\n\\n\\n\\n\\n\\n\\n\\n\\n\\n\\n\\n\\n\\n\\n\\n\\nCompany \\n\\n\\n\\n\\n\\n\\n\\n\\t\\t\\t\\t\\t\\t\\t\\t\\t\\t\\t\\t\\t\\t\\t\\t\\n\\t\\t\\t\\t\\t\\t\\t\\tAbout\\n\\t\\t\\t\\t\\t\\t\\t\\t\\t\\t\\t\\t\\t\\t\\t\\n\\n\\n\\n\\t\\t\\t\\t\\t\\t\\t\\t\\t\\t\\t\\t\\t\\t\\t\\t\\n\\t\\t\\t\\t\\t\\t\\t\\tBlog\\n\\t\\t\\t\\t\\t\\t\\t\\t\\t\\t\\t\\t\\t\\t\\t\\n\\n\\n\\n\\t\\t\\t\\t\\t\\t\\t\\t\\t\\t\\t\\t\\t\\t\\t\\t\\n\\t\\t\\t\\t\\t\\t\\t\\tBecome a Teacher\\n\\t\\t\\t\\t\\t\\t\\t\\t\\t\\t\\t\\t\\t\\t\\t\\n\\n\\n\\n\\n\\n\\n\\n\\n\\n\\n\\nCompany \\n\\n\\n\\n\\n\\n\\n\\n\\t\\t\\t\\t\\t\\t\\t\\t\\t\\t\\t\\t\\t\\t\\t\\t\\n\\t\\t\\t\\t\\t\\t\\t\\tPrivacy\\n\\t\\t\\t\\t\\t\\t\\t\\t\\t\\t\\t\\t\\t\\t\\t\\n\\n\\n\\n\\t\\t\\t\\t\\t\\t\\t\\t\\t\\t\\t\\t\\t\\t\\t\\t\\n\\t\\t\\t\\t\\t\\t\\t\\tTerms\\n\\t\\t\\t\\t\\t\\t\\t\\t\\t\\t\\t\\t\\t\\t\\t\\n\\n\\n\\n\\n\\n\\n\\n\\n\\n\\n\\n \\n\\n\\n\\n\\n\\n\\n  \\n\\n\\n\\n\\n\\n\\n\\nInterested to Start doing a project?Go to our Project Library and Start Exploring Now!!\\n \\n\\n\\n\\n\\n\\n\\nGet started now\\n\\n\\n\\n\\n\\n\\n\\n\\n\\n\\n\\n \\n\\n\\n\\n\\n\\n\\n\\n\\n\\n\\n\\n\\nLogin with your site account\\n\\n\\n\\n\\n\\n\\n\\n\\n\\n\\n Connect with Login with Google Lost your password?\\n\\n Remember Me\\t\\t\\t\\n\\n\\n\\n\\n\\n\\n\\n\\nNot a member yet?  Register now \\n\\nRegister a new account\\n\\n\\n\\n\\n\\n\\n\\n\\n\\n\\n\\n\\n\\n\\n\\n\\n\\n Connect with Login with Google\\n\\n\\n\\n\\n\\n\\n\\nAre you a member?  Login now \\n\\n\\n\\n\\n\\n\\n\\n\\n\\n             Register for Free!              Email* Phone*SubmitReset             Get Access to all Data Science Project              Name* Phone Number* EmailGet StartedReset             Get Access to all Gen AI Project              Name* Phone Number* EmailGet StartedReset             Get Access to all Technology Project              Name* Phone Number* EmailGet StartedReset             Get Access to all Analytics Project              Name* Phone Number* EmailGet StartedReset             Access Top Hands-on Projects Today!              Name* Phone* Email*SubmitReset             Access the offer in seconds! Just fill out the form              Name* Phone* Email*SubmitReset             Enroll now and ace your data science interviews!              Name* Phone* Email*SubmitReset \\n\\n\\n\\n\\n\\n\\n\\n\\n\\n\\n\\n\\n\\n\\n\\n\\n\\n\\n\\n\\n\\n\\n\\n\\n\\n\\n\\n\\n\\n\\n\\n\\n\\n\\n\\n\\n\\n\\n\\n\\n\\n\\n\\n\\n\\n\\n\\n\\n\\n\\n\\n\\n\\n\\n\\n\\n\\n\\n\\n\\n\\n\\n\\n\\n\\n\\n\\n\\n\\n\\n\\n\\n\\n\\n\\n\\n\\n\\n\\n\\n\\n\\n\\n\\n\\n\\n\\n\\n\\n\\n\\n\\n\\n\\n\\n\\n\\n\\n\\n\\n\\n\\n\\n\\n\\n\\n\\n\\n\\n\\n\\n\\n\\n\\n\\n\\nModal title\\n\\n\\nMain Content\\n\\n\\nNo\\nYes\\n\\n\\n\\n\\n\", metadata={'source': 'https://code4x.dev/courses/chat-app-using-langchain-openai-gpt-api-pinecone-vector-database/', 'title': '#1 Best Gen AI Project | LangChain OpenAi GPT Chat app Project for Begineers', 'description': 'Langchain OpenAI Project for Begineers Initiative: Bridging Language and Technology â€“ Find Comprehensive Documentation on Our Project.', 'language': 'en-US'})]\n"
     ]
    }
   ],
   "source": [
    "loader = WebBaseLoader(\"https://code4x.dev/courses/chat-app-using-langchain-openai-gpt-api-pinecone-vector-database/\")\n",
    "docs = loader.load()\n",
    "print(docs)"
   ]
  },
  {
   "cell_type": "code",
   "execution_count": 31,
   "id": "a3740669",
   "metadata": {},
   "outputs": [
    {
     "name": "stdout",
     "output_type": "stream",
     "text": [
      "3\n",
      "-------------------------------\n",
      "page_content='#1 Best Gen AI Project | LangChain OpenAi GPT Chat app Project for Begineers\\n\\n\\n\\n\\n\\n\\n\\n\\n\\n\\n\\n\\n\\n\\n\\n\\n\\n\\n\\n\\n\\n\\n\\n\\n\\n\\n\\n\\n\\n\\n\\n\\n\\n\\n\\n\\n\\n\\n\\n\\n\\n\\n\\n\\n\\n\\n\\n\\n\\n\\n\\n\\n\\n\\n\\n\\n\\n\\n\\n\\n\\n\\n\\n\\n\\n\\n\\n\\n\\n\\n\\n\\n\\n\\n\\n\\n\\n\\n\\n\\n\\n  \\n\\n\\n\\n\\n\\n\\n\\n\\n \\n\\n\\n\\n\\n\\n\\n\\n\\n \\n\\n\\n\\n\\n\\n\\n\\n\\n\\nBack\\n\\n\\n\\n\\n\\n\\n\\n\\nAll Projects\\nAbout Us\\nBlogs\\nFAQs\\nEvents\\nBecome a Teacher\\nCart\\n \\n\\n\\n\\n\\n\\n\\n\\n\\n\\n\\n  \\n\\n\\n\\n\\n\\n\\n\\n\\n\\n\\t\\t\\t\\t\\t\\t\\t\\t\\t\\t\\t\\t\\t\\t\\t\\n\\t\\t\\t\\t\\t\\t\\t\\tContact us:\\n\\t\\t\\t\\t\\t\\t\\t\\t\\t\\t\\t\\t\\t\\t\\n\\n\\n \\n\\t\\t\\t\\t\\t\\t\\t\\t\\n\\t\\t\\t\\t\\t\\t\\t\\t +91 63 6273 2428\\n\\t\\t\\t\\t\\t\\t\\t\\t\\t\\t\\t\\t\\t\\t\\n\\n\\n\\n \\n\\t\\t\\t\\t\\t\\t\\t\\t\\n\\t\\t\\t\\t\\t\\t\\t\\tricha@code4x.dev\\n\\t\\t\\t\\t\\t\\t\\t\\t\\t\\t\\t\\t\\t\\t\\t\\n\\n\\n\\n\\n\\n\\n\\n\\n\\n\\n\\n\\nRegisterLogin \\n\\n\\n\\n\\n\\n\\n\\n\\n\\n\\n\\n\\n\\n\\n\\n\\n \\n\\n\\n\\n\\n\\n\\n\\n\\n\\n\\n \\n\\n\\nAll Projects\\nAbout Us\\nBlogs\\nFAQs\\nEvents\\nBecome a Teacher\\nCart\\n\\n\\n\\n\\n\\n\\n\\n\\n\\n\\n\\n\\n\\n\\n\\n\\n\\n\\n\\n\\n\\n\\n\\n\\n \\n\\n\\n\\n \\n\\nGen AI \\n\\n \\n\\nHomeAll ProjectsGen AILangChain + Vector DB + GPT 3.5 Turbo => Semantic Search Chat App (with full Code) \\n\\n\\n\\n\\n\\n\\nLangChain + Vector DB + GPT 3.5 Turbo => Semantic Search Chat App (with full Code) ðŸš€ Learn to build a Chat App that would Query and obtain responses using natural language\\nIn this course, you will learn how to build a cutting-edge Semantic Search Chat App using the latest technologies in natural language processing and vector databases. This project module takes you on a thrilling journey through the integration of the SQuAD 2.0 dataset, Pinecone vector database, LangChain framework, and OpenAI’s GPT-3.5 Turbo language model.\\n[with full Code and Video Explainers]\\nBy the end of this course, you will be able to:\\nðŸ’\\xa0 Build a LLM based App using LangChain and OpenAI GPT Chat API\\nðŸ’\\xa0 Understand the use of Vector Databases and use Pinecone Vector database for Semantic Search\\nðŸ’\\xa0 Create a LangChain Conversational Agent invoking a custom Tool with Conversational Memory\\nEnroll today and learn how to build this cool LLM Chat App using LangChain Framework, Pinecone Vector DB and OpenAI GPT! ðŸ’¼ \\n\\n\\n \\nTeacher\\n\\nCode4X \\n\\n\\n\\nCategories\\n\\nGen AI \\n\\n\\n\\n\\n\\n\\n \\n\\n\\n\\n\\n\\n\\n\\nBuild a Chat App using LangChain Framework, Pinecone Vector Database and GPT 3.5 Turbo Language Model | Langchain OpenAi Generation AI Project for BeginnersÂ\\xa0\\nThe goal of this Langchain OpenAi Project for Student is to develop a robust Semantic Search application capable of providing precise answers to user queries. This is achieved by leveraging the SQuAD 2.0 dataset, Pinecone vector database, LangChain tools and agents, and the OpenAI GPT Chat API. The application will create a searchable space for the SQuAD 2.0 dataset and enable interactive querying using natural language processing capabilities.\\nKey Components\\n\\nSQuAD 2.0 Dataset: A large-scale dataset for reading comprehension and question-answering that contains more than 150,000 question-answer pairs on 500+ articles.\\nPinecone Vector Database: A managed vector database service optimized for machine learning models. It allows for efficient similarity search, which is crucial for finding the most relevant answers to queries.\\nLangChain: A library of tools for building applications with language models. LangChain will be used for managing conversational context and integrating with the OpenAI GPT API.\\nOpenAI GPT Chat API: A state-of-the-art language model that can understand context, answer questions, and maintain a coherent conversation.\\n\\nProject Workflow | Lang Chain Generation AI Project for Beginners\\nData Preparation and Indexing\\n\\nData Ingestion: Load the SQuAD 2.0 dataset and preprocess it to extract the questions, answers, and contextual paragraphs.\\nVectorization: Use OpenAI’s embedding models to convert textual data into high-dimensional vectors.\\nUpsert into Pinecone: Upsert the vectorized data into a Pinecone index, which will allow us to perform semantic searches over the dataset.\\n\\nSemantic Search Agent Development in LangChain' metadata={'source': 'https://code4x.dev/courses/chat-app-using-langchain-openai-gpt-api-pinecone-vector-database/', 'title': '#1 Best Gen AI Project | LangChain OpenAi GPT Chat app Project for Begineers', 'description': 'Langchain OpenAI Project for Begineers Initiative: Bridging Language and Technology â€“ Find Comprehensive Documentation on Our Project.', 'language': 'en-US'}\n",
      "-------------------------------\n",
      "page_content=\"Semantic Search Agent Development in LangChain\\n\\nLangChain Agent: Create a LangChain Tool for Query from the Pinecone DB and a LangChain Agent that uses the Q&A Tool.\\nQuery Processing: Use LangChain’s conversational agents to process the query and generate a suitable prompt for the OpenAI GPT model.\\nVector Search: Convert the processed query into a vector using OpenAI embeddings and perform a similarity search in the Pinecone index to retrieve the most relevant context passages.\\nAnswer Generation: Pass the context passages to the OpenAI GPT Chat API to generate a natural language answer.\\nConversational Memory: Employ LangChain’s conversational memory to maintain the context of the conversation, allowing for follow-up questions and clarifications without losing the thread of the discussion.\\n\\n\\n\\n\\n\\n\\n\\n\\n\\n\\n\\n\\n\\n\\n\\n\\n\\n\\n\\n\\n\\n\\n\\t\\tFeatures\\t\\n\\n\\n\\n#langchain project for student, #langchain documentation project for beginners, #langchain openai project for beginner, #langchain project for students, #Lang Chain Generation AI Project for Beginners #Lang Chain Generation AI Project for StudentÂ\\xa0Â\\xa0\\n\\n\\n\\n\\n\\n\\n\\n\\nOverview\\n\\n\\nCurriculum\\n\\n\\n\\n\\n\\n ₹ 799.00\\n\\n        \\n        ₹ 299.00\\n    \\n\\n\\n\\n\\n\\n\\n\\n\\t\\t\\tAdd to cart\\t\\t\\n\\n\\n\\n \\n\\n\\n\\n\\n\\t\\t\\t\\t\\t\\tYou May Like\\t\\t\\t\\t\\t\\n\\n\\n\\n\\n\\n\\n\\n\\n\\n\\n\\t\\t\\tAdd to cart\\t\\t\\n\\n\\n\\n\\n\\n \\n\\nCode4X \\n\\n\\nLearn to Develop RAG Applications through LangChainðŸš€ Learn to develop RAG Applications using Large Language Models like Open AI GPT and LangChain Framework. \\r\\nIn this course, you will learn how...\\n\\n \\n\\nCode4X \\n\\n\\n19\\n\\nStudents\\n\\n\\t\\t187    \\nstudents\\n\\n\\n\\n₹ 2,399.00\\n\\t\\t\\t\\t\\t\\t₹ 465.00        \\n\\n\\n \\n\\n\\n\\n\\n\\n\\n\\n\\n\\n\\n\\t\\t\\tAdd to cart\\t\\t\\n\\n\\n\\n\\n\\n \\n\\nCode4X \\n\\n\\nData Science Project Bundle – Top 6 Projects at â‚¹799 Only!Get our top 6 Data Science Projects bundle now for just â‚¹799! ðŸš€ Dive into -\\r\\n1. Stock Price Prediction with Time Series Analysis using...\\n\\n \\n\\nCode4X \\n\\n\\n153\\n\\nStudents\\n\\n\\t\\t645    \\nstudents\\n\\n\\n\\n₹ 1,200.00\\n\\t\\t\\t\\t\\t\\t₹ 799.00        \\n\\n\\n \\n\\n\\n\\n\\n\\n\\n\\n\\n\\n\\n\\t\\t\\tAdd to cart\\t\\t\\n\\n\\n\\n\\n\\n \\n\\nCode4X \\n\\n\\nData Science Interview Preparation Program – Five Part Online SeriesFeeling lost in Data Science Interview Preparation?  Code4X's 5-week LIVE program equips you with a series of five focused guidance sessions,  weekly...\\n\\n \\n\\nCode4X \\n\\n\\n25\\n\\nStudents\\n\\n\\t\\t88    \\nstudents\\n\\n\\n\\n₹ 2,999.00\\n\\t\\t\\t\\t\\t\\t₹ 799.00        \\n\\n\\n \\n\\n\\n\\n\\n\\n\\n\\n\\n\\n\\n\\t\\t\\tAdd to cart\\t\\t\\n\\n\\n\\n\\n\\n \\n\\nCode4X \\n\\n\\nFinancial Analysis App using GPT Chat API + SERP API + Yahoo Finance API (with full Code)ðŸš€ Learn to build a Financial Analysis App for data analytics projects for students that would use OpenAI GPT LLM Turbo Chat API, Google...\\n\\n \\n\\nCode4X \\n\\n\\n10\\n\\nStudents\\n\\n\\t\\t673    \\nstudents\\n\\n\\n\\n₹ 799.00\\n\\t\\t\\t\\t\\t\\t₹ 299.00        \\n\\n\\n \\n\\n\\n\\n\\n\\n\\n\\n\\n\\n\\n\\t\\t\\tAdd to cart\\t\\t\\n\\n\\n\\n\\n\\n \\n\\nCode4X \\n\\n\\nMarketing Analytics Project for Data Science : Regression Analysis for Market Mix Modelling (with full Code)ðŸŒŸ Get ahead of the Competition in the Data Science and Data Analytics Career field. Learn how to perform a Market Mix Modelling using...\\n\\n \\n\\nCode4X \\n\\n\\n19\\n\\nStudents\\n\\n\\t\\t257    \\nstudents\\n\\n\\n\\n₹ 599.00\\n\\t\\t\\t\\t\\t\\t₹ 249.00        \\n\\n\\n \\n\\n\\n\\n\\n\\n\\n\\n\\n\\n\\n\\n\\n\\n\\n\\n ₹ 799.00\\n\\n        \\n        ₹ 299.00\\n    \\n\\n\\n\\n\\n\\n\\n\\n\\t\\t\\tAdd to cart\\t\\t\\n\\n\\n\\n\\n\\nCourse Features\\n\\n\\n\\nLectures\\n\\n\\t\\t\\t\\t\\t\\t23\\t\\t\\t\\t\\t\\n\\n\\n\\nQuizzes\\n\\n\\t\\t\\t\\t\\t\\t0\\t\\t\\t\\t\\t\\t\\n\\n\\n\\nDuration\\n15 Days\\n\\n\\n\\nSkill level\\nIntermediate\\n\\n\\n\\nLanguage\\nEnglish\\n\\n\\n\\nStudents\\n677\\n\\n\\n\\nCertificate\\nYes\\n\\n\\n\\nAssessments\\nSelf\\n\\n\\n\\n\\nShare: \\n\\n\\n\\n\\n\\n\\n\\n\\n\\n\\n\\n  \\n\\n\\n\\n\\n\\n\\n \\n \\n\\n\\n\\n\\n\\n\\n\\n\\n \\n\\t\\t\\t\\t\\t\\t\\t\\t\\n\\t\\t\\t\\t\\t\\t\\t\\t+91 63 6273 2428\\n\\t\\t\\t\\t\\t\\t\\t\\t\\t\\t\\t\\t\\t\\t\\n\\n\\n\\n \\n\\t\\t\\t\\t\\t\\t\\t\\t\\n\\t\\t\\t\\t\\t\\t\\t\\tBengaluru, INDIA\\n\\t\\t\\t\\t\\t\\t\\t\\t\\t\\t\\t\\t\\t\\t\\t\\n\\n\\n\\n\\n \\n\\t\\t\\t\\t\\t\\t\\t\\t\\n\\t\\t\\t\\t\\t\\t\\t\\tcode4x@teksands.ai\\n\\t\\t\\t\\t\\t\\t\\t\\t\\t\\t\\t\\t\\t\\t\\t\\n\\n\\n\\n\\n\\n\\n\\n\\n\\n\\n\\n\\n\\n\\n\\n\\n\\n\\n\\n\\n\\n\\n\\n\\n\\n\\n\\n\\n\\n\\n\\n\\n\\n\\nCompany \\n\\n\\n\\n\\n\\n\\n\\n\\t\\t\\t\\t\\t\\t\\t\\t\\t\\t\\t\\t\\t\\t\\t\\t\\n\\t\\t\\t\\t\\t\\t\\t\\tAbout\\n\\t\\t\\t\\t\\t\\t\\t\\t\\t\\t\\t\\t\\t\\t\\t\\n\\n\\n\\n\\t\\t\\t\\t\\t\\t\\t\\t\\t\\t\\t\\t\\t\\t\\t\\t\\n\\t\\t\\t\\t\\t\\t\\t\\tBlog\\n\\t\\t\\t\\t\\t\\t\\t\\t\\t\\t\\t\\t\\t\\t\\t\\n\\n\\n\\n\\t\\t\\t\\t\\t\\t\\t\\t\\t\\t\\t\\t\\t\\t\\t\\t\\n\\t\\t\\t\\t\\t\\t\\t\\tBecome a Teacher\\n\\t\\t\\t\\t\\t\\t\\t\\t\\t\\t\\t\\t\\t\\t\\t\\n\\n\\n\\n\\n\\n\\n\\n\\n\\n\\n\\nCompany \\n\\n\\n\\n\\n\\n\\n\\n\\t\\t\\t\\t\\t\\t\\t\\t\\t\\t\\t\\t\\t\\t\\t\\t\\n\\t\\t\\t\\t\\t\\t\\t\\tPrivacy\\n\\t\\t\\t\\t\\t\\t\\t\\t\\t\\t\\t\\t\\t\\t\\t\\n\\n\\n\\n\\t\\t\\t\\t\\t\\t\\t\\t\\t\\t\\t\\t\\t\\t\\t\\t\\n\\t\\t\\t\\t\\t\\t\\t\\tTerms\\n\\t\\t\\t\\t\\t\\t\\t\\t\\t\\t\\t\\t\\t\\t\\t\\n\\n\\n\\n\\n\\n\\n\\n\\n\\n\\n\\n \\n\\n\\n\\n\\n\\n\\n  \\n\\n\\n\\n\\n\\n\\n\\nInterested to Start doing a project?Go to our Project Library and Start Exploring Now!!\\n \\n\\n\\n\\n\\n\\n\\nGet started now\" metadata={'source': 'https://code4x.dev/courses/chat-app-using-langchain-openai-gpt-api-pinecone-vector-database/', 'title': '#1 Best Gen AI Project | LangChain OpenAi GPT Chat app Project for Begineers', 'description': 'Langchain OpenAI Project for Begineers Initiative: Bridging Language and Technology â€“ Find Comprehensive Documentation on Our Project.', 'language': 'en-US'}\n",
      "-------------------------------\n",
      "page_content='Interested to Start doing a project?Go to our Project Library and Start Exploring Now!!\\n \\n\\n\\n\\n\\n\\n\\nGet started now\\n\\n\\n\\n\\n\\n\\n\\n\\n\\n\\n\\n \\n\\n\\n\\n\\n\\n\\n\\n\\n\\n\\n\\n\\nLogin with your site account\\n\\n\\n\\n\\n\\n\\n\\n\\n\\n\\n Connect with Login with Google Lost your password?\\n\\n Remember Me\\t\\t\\t\\n\\n\\n\\n\\n\\n\\n\\n\\nNot a member yet?  Register now \\n\\nRegister a new account\\n\\n\\n\\n\\n\\n\\n\\n\\n\\n\\n\\n\\n\\n\\n\\n\\n\\n Connect with Login with Google\\n\\n\\n\\n\\n\\n\\n\\nAre you a member?  Login now \\n\\n\\n\\n\\n\\n\\n\\n\\n\\n             Register for Free!              Email* Phone*SubmitReset             Get Access to all Data Science Project              Name* Phone Number* EmailGet StartedReset             Get Access to all Gen AI Project              Name* Phone Number* EmailGet StartedReset             Get Access to all Technology Project              Name* Phone Number* EmailGet StartedReset             Get Access to all Analytics Project              Name* Phone Number* EmailGet StartedReset             Access Top Hands-on Projects Today!              Name* Phone* Email*SubmitReset             Access the offer in seconds! Just fill out the form              Name* Phone* Email*SubmitReset             Enroll now and ace your data science interviews!              Name* Phone* Email*SubmitReset \\n\\n\\n\\n\\n\\n\\n\\n\\n\\n\\n\\n\\n\\n\\n\\n\\n\\n\\n\\n\\n\\n\\n\\n\\n\\n\\n\\n\\n\\n\\n\\n\\n\\n\\n\\n\\n\\n\\n\\n\\n\\n\\n\\n\\n\\n\\n\\n\\n\\n\\n\\n\\n\\n\\n\\n\\n\\n\\n\\n\\n\\n\\n\\n\\n\\n\\n\\n\\n\\n\\n\\n\\n\\n\\n\\n\\n\\n\\n\\n\\n\\n\\n\\n\\n\\n\\n\\n\\n\\n\\n\\n\\n\\n\\n\\n\\n\\n\\n\\n\\n\\n\\n\\n\\n\\n\\n\\n\\n\\n\\n\\n\\n\\n\\n\\n\\nModal title\\n\\n\\nMain Content\\n\\n\\nNo\\nYes' metadata={'source': 'https://code4x.dev/courses/chat-app-using-langchain-openai-gpt-api-pinecone-vector-database/', 'title': '#1 Best Gen AI Project | LangChain OpenAi GPT Chat app Project for Begineers', 'description': 'Langchain OpenAI Project for Begineers Initiative: Bridging Language and Technology â€“ Find Comprehensive Documentation on Our Project.', 'language': 'en-US'}\n"
     ]
    }
   ],
   "source": [
    "# The RecursiveCharacterTextSplitter takes a large text and splits it based on a specified chunk size. \n",
    "# It does this by using a set of characters. The default characters provided to it are [\"\\n\\n\", \"\\n\", \" \", \"\"].\n",
    "text_splitter = RecursiveCharacterTextSplitter()\n",
    "documents = text_splitter.split_documents(docs)\n",
    "print(len(documents))\n",
    "for document in documents:\n",
    "    print(\"-------------------------------\")\n",
    "    print(document)"
   ]
  },
  {
   "cell_type": "code",
   "execution_count": 32,
   "id": "de23b8e2",
   "metadata": {},
   "outputs": [],
   "source": [
    "embeddings = OpenAIEmbeddings()"
   ]
  },
  {
   "cell_type": "code",
   "execution_count": 33,
   "id": "c0a7d984",
   "metadata": {},
   "outputs": [
    {
     "name": "stdout",
     "output_type": "stream",
     "text": [
      "3\n"
     ]
    }
   ],
   "source": [
    "# FAISS (Facebook AI Similarity Search) is a library that allows developers to store and search for embeddings of \n",
    "# documents that are similar to each other. \n",
    "vector = FAISS.from_documents(documents,embeddings) # ingest documents into the vector store (nhập tài liệu vào vector store)\n",
    "print(vector.index.ntotal) "
   ]
  },
  {
   "cell_type": "code",
   "execution_count": 34,
   "id": "0d0f34a1",
   "metadata": {},
   "outputs": [],
   "source": [
    "# save local\n",
    "vector.save_local(\"faiss_index_db\")"
   ]
  },
  {
   "cell_type": "code",
   "execution_count": 35,
   "id": "82de101c",
   "metadata": {},
   "outputs": [
    {
     "name": "stdout",
     "output_type": "stream",
     "text": [
      "input_variables=['context', 'input'] messages=[HumanMessagePromptTemplate(prompt=PromptTemplate(input_variables=['context', 'input'], template='\\n    Answer the following question based only on the provided context:\\n    <context>\\n    {context}\\n    <context>\\n    \\n    Question: {input}\\n    '))]\n"
     ]
    }
   ],
   "source": [
    "prompt = ChatPromptTemplate.from_template(\n",
    "    \"\"\"\n",
    "    Answer the following question based only on the provided context:\n",
    "    <context>\n",
    "    {context}\n",
    "    <context>\n",
    "    \n",
    "    Question: {input}\n",
    "    \"\"\"\n",
    ")\n",
    "print(prompt)"
   ]
  },
  {
   "cell_type": "code",
   "execution_count": 36,
   "id": "58a76437",
   "metadata": {},
   "outputs": [],
   "source": [
    "document_chain = create_stuff_documents_chain(llm,prompt)\n",
    "#document_chain"
   ]
  },
  {
   "cell_type": "code",
   "execution_count": 37,
   "id": "0b82ebde",
   "metadata": {},
   "outputs": [
    {
     "data": {
      "text/plain": [
       "VectorStoreRetriever(tags=['FAISS', 'OpenAIEmbeddings'], vectorstore=<langchain_community.vectorstores.faiss.FAISS object at 0x00000218C461C190>)"
      ]
     },
     "execution_count": 37,
     "metadata": {},
     "output_type": "execute_result"
    }
   ],
   "source": [
    "retriever = vector.as_retriever()\n",
    "retriever"
   ]
  },
  {
   "cell_type": "code",
   "execution_count": 38,
   "id": "4387c6b8",
   "metadata": {},
   "outputs": [],
   "source": [
    "retrieval_chain = create_retrieval_chain(retriever,document_chain) \n",
    "# document chain being part of the retrieval chain # chuỗi tài liệu là một phần của chuỗi truy xuất\n",
    "#retrieval_chain"
   ]
  },
  {
   "cell_type": "code",
   "execution_count": 39,
   "id": "46ee1df2",
   "metadata": {},
   "outputs": [
    {
     "name": "stdout",
     "output_type": "stream",
     "text": [
      "The key takeaways for learners from the course include:\n",
      "1. Building a LLM based App using LangChain and OpenAI GPT Chat API.\n",
      "2. Understanding the use of Vector Databases and using Pinecone Vector database for Semantic Search.\n",
      "3. Creating a LangChain Conversational Agent invoking a custom Tool with Conversational Memory.\n"
     ]
    }
   ],
   "source": [
    "response = retrieval_chain.invoke({\n",
    "    \"context\":\"You are the trainer teaching the given course, and you are to suggest to potential learners.\", # Bạn là người huấn luyện đang giảng dạy khóa học nhất định và bạn có nhiệm vụ gợi ý cho những người học tiềm năng.\n",
    "    \"input\":\"What are the key takeaways for learners from the course?\" # Những nội dung chính mà người học rút ra từ khóa học là gì?\n",
    "})\n",
    "print(response[\"answer\"])"
   ]
  }
 ],
 "metadata": {
  "kernelspec": {
   "display_name": "Python 3 (ipykernel)",
   "language": "python",
   "name": "python3"
  },
  "language_info": {
   "codemirror_mode": {
    "name": "ipython",
    "version": 3
   },
   "file_extension": ".py",
   "mimetype": "text/x-python",
   "name": "python",
   "nbconvert_exporter": "python",
   "pygments_lexer": "ipython3",
   "version": "3.9.13"
  }
 },
 "nbformat": 4,
 "nbformat_minor": 5
}
