{
 "cells": [
  {
   "cell_type": "markdown",
   "id": "9e1f0c79",
   "metadata": {},
   "source": [
    "## AGENTS"
   ]
  },
  {
   "cell_type": "markdown",
   "id": "beb14840",
   "metadata": {},
   "source": [
    "Agents in Langchain are components that utilize <b>Language Models</b> and a sequence of actions.\n",
    "\n",
    "<i>→ Agents trong Langchain là các thành phần sử dụng mô hình ngôn ngữ và chuỗi hành động.</i>\n",
    "\n",
    "The agent uses a <b>Reasoning Engine</b> to determine which actions to take to get a result.\n",
    "\n",
    "<i>→ Agents sử dụng Công cụ lý luận để xác định hành động nào cần thực hiện để đạt được kết quả.</i>\n",
    "\n",
    "Agents are crucial for handling tasks ranging from simple automated responses to complex, context-aware interactions.\n",
    "\n",
    "<i>→ Agents đóng vai trò quan trọng trong việc xử lý các tác vụ từ phản hồi tự động đơn giản đến các tương tác phức tạp, nhận biết theo ngữ cảnh.</i>"
   ]
  },
  {
   "cell_type": "markdown",
   "id": "596ad143",
   "metadata": {},
   "source": [
    "![Agent-Tool Diagram](agent-tool.png)"
   ]
  },
  {
   "cell_type": "markdown",
   "id": "54e40e3e",
   "metadata": {},
   "source": [
    "## TOOLS"
   ]
  },
  {
   "cell_type": "markdown",
   "id": "2f51aca7",
   "metadata": {},
   "source": [
    "Tools are interfaces that Agents can use to interact with the world. Tools typically comprise the following:\n",
    "\n",
    "<i>(Tools là các giao diện mà Agents có thể sử dụng để tương tác với thế giới. Các công cụ thường bao gồm:)</i>\n",
    "- The name of the tool \n",
    "- A description of what the tool is \n",
    "- JSON schema of what the inputs to the tool are\n",
    "- Should the result of a tool be returned directly to the user?\n",
    "\n",
    "Notably, the name, description, and JSON schema (if used) are all used in the <b>prompt</b>. Therefore, they must be clear and describe precisely how the tool should be used. You may need to change the default name, description, or JSON schema if the LLM does not understand how to use the tool.\n",
    "\n",
    "→ <i>Đáng chú ý là tên, mô tả và lược đồ JSON (nếu được sử dụng) đều được sử dụng trong prompt. Do đó, chúng phải rõ ràng và mô tả chính xác cách sử dụng công cụ này. Bạn có thể cần thay đổi tên mặc định, mô tả hoặc lược đồ JSON nếu LLM không hiểu cách sử dụng công cụ.</i>\n",
    "\n",
    "The Agent identifies key ideas in the user's questions, looks at all the tools we have put at its disposal (specifically the tools' titles and descriptions), and then, combined with the system prompt and the optional agent instructions, decides on which tool to use.\n",
    "\n",
    "→ <i>Agent xác định các ý tưởng chính trong câu hỏi của người dùng, xem xét tất cả các Tools mà chúng tôi sử dụng (cụ thể là tiêu đề và mô tả của các Tools), sau đó, kết hợp với <b>system prompt</b> và hướng dẫn cho Agent (tùy chọn), quyết định nên sử dụng Tool nào sử dụng.</i>"
   ]
  },
  {
   "cell_type": "markdown",
   "id": "837024ac",
   "metadata": {},
   "source": [
    "## ReAct Agents"
   ]
  },
  {
   "cell_type": "markdown",
   "id": "4e489945",
   "metadata": {},
   "source": [
    "<b>ReAct</b>, which stands for <b>Reasoning + Acting</b>, combines Reasoning and Acting to solve complex language reasoning and decision-making tasks. This is achieved through text actions that the model can use to ask questions or perform tasks to gain more information and better understand a situation. \n",
    "\n",
    "For instance, when faced with a <b>multi-hop reasoning question</b>, ReAct might initiate multiple search actions or calls to external tools or custom tools within your program.\n",
    "\n",
    "→ <i>ReAct, viết tắt của Reasoning + Acting, kết hợp Lý luận và Hành động để giải quyết các nhiệm vụ đưa ra quyết định và lý luận bằng ngôn ngữ phức tạp. Điều này đạt được thông qua các hành động văn bản mà mô hình có thể sử dụng để đặt câu hỏi hoặc thực hiện các nhiệm vụ nhằm thu thập thêm thông tin và hiểu rõ hơn về một tình huống. </i>\n",
    "    \n",
    "<i>Ví dụ: khi gặp một câu hỏi lý luận có nhiều bước nhảy, ReAct có thể bắt đầu nhiều hành động tìm kiếm hoặc gọi đến các công cụ bên ngoài hoặc công cụ tùy chỉnh trong chương trình của bạn.</i>"
   ]
  },
  {
   "cell_type": "markdown",
   "id": "f19f9abb",
   "metadata": {},
   "source": [
    "![ReAct Agent](ReAct.png)"
   ]
  },
  {
   "cell_type": "code",
   "execution_count": 9,
   "id": "ca8fde9f",
   "metadata": {},
   "outputs": [],
   "source": [
    "import os\n",
    "from dotenv import load_dotenv\n",
    "import openai\n",
    "from langchain_openai import OpenAI"
   ]
  },
  {
   "cell_type": "code",
   "execution_count": 10,
   "id": "dc11d09f",
   "metadata": {},
   "outputs": [],
   "source": [
    "# Setup model\n",
    "load_dotenv()\n",
    "api_key = os.getenv('OPENAI_API_KEY')\n",
    "openai.api_key = api_key"
   ]
  },
  {
   "cell_type": "code",
   "execution_count": 11,
   "id": "6f5c2e0a",
   "metadata": {},
   "outputs": [],
   "source": [
    "llm = OpenAI(openai_api_key=api_key,model=\"gpt-3.5-turbo-instruct\",temperature=0.5)"
   ]
  },
  {
   "cell_type": "markdown",
   "id": "1eb0d14a",
   "metadata": {},
   "source": [
    "## Math tool"
   ]
  },
  {
   "cell_type": "code",
   "execution_count": 28,
   "id": "e5c4647a",
   "metadata": {},
   "outputs": [],
   "source": [
    "from langchain.chains import LLMMathChain \n",
    "#Chain that interprets a prompt and executes Python code to do math\n",
    "# Chuỗi diễn giải  prompt và thực thi mã Python để làm toán\n",
    "from langchain.agents import Tool, AgentType"
   ]
  },
  {
   "cell_type": "code",
   "execution_count": 13,
   "id": "3d56eac9",
   "metadata": {},
   "outputs": [],
   "source": [
    "# init the math tool\n",
    "llm_math = LLMMathChain.from_llm(llm=llm)\n",
    "math_tool = Tool(\n",
    "    name='Calculator',\n",
    "    func=llm_math.run,\n",
    "    description='Useful for when you need to answer questiond about math.'\n",
    ")\n",
    "# When giving tools to LLM, we must pass as list of tools\n",
    "tools = [math_tool]"
   ]
  },
  {
   "cell_type": "markdown",
   "id": "10313ea9",
   "metadata": {},
   "source": [
    "## Agent"
   ]
  },
  {
   "cell_type": "markdown",
   "id": "e7672173",
   "metadata": {},
   "source": [
    "### Zero-shot ReAct\n",
    "The Zero-shot ReAct Agent is a language generation model that can create realistic contexts even without being trained on specific data. It can be used for various tasks, such as generating creative text formats, language translation, and developing different types of creative content.\n",
    "\n",
    "→ <i>Zero-shot ReAct Agent là mô hình tạo ngôn ngữ có thể tạo bối cảnh thực tế ngay cả khi không được đào tạo về dữ liệu cụ thể. Nó có thể được sử dụng cho nhiều tác vụ khác nhau, chẳng hạn như tạo các định dạng văn bản sáng tạo, dịch ngôn ngữ và phát triển các loại nội dung sáng tạo khác nhau.</i>"
   ]
  },
  {
   "cell_type": "code",
   "execution_count": 14,
   "id": "e79e53bf",
   "metadata": {},
   "outputs": [
    {
     "name": "stderr",
     "output_type": "stream",
     "text": [
      "C:\\Users\\ASUS\\anaconda3\\lib\\site-packages\\langchain_core\\_api\\deprecation.py:117: LangChainDeprecationWarning: The function `initialize_agent` was deprecated in LangChain 0.1.0 and will be removed in 0.2.0. Use Use new agent constructor methods like create_react_agent, create_json_agent, create_structured_chat_agent, etc. instead.\n",
      "  warn_deprecated(\n"
     ]
    },
    {
     "name": "stdout",
     "output_type": "stream",
     "text": [
      "\n",
      "\n",
      "\u001b[1m> Entering new AgentExecutor chain...\u001b[0m\n",
      "\u001b[32;1m\u001b[1;3m I need to find the square root of 25\n",
      "Action: Calculator\n",
      "Action Input: square root of 25\u001b[0m\n",
      "Observation: \u001b[36;1m\u001b[1;3mAnswer: 5.0\u001b[0m\n",
      "Thought:\u001b[32;1m\u001b[1;3m I now know the final answer\n",
      "Final Answer: 5.0\u001b[0m\n",
      "\n",
      "\u001b[1m> Finished chain.\u001b[0m\n"
     ]
    },
    {
     "data": {
      "text/plain": [
       "{'input': 'What is root over 25?', 'output': '5.0'}"
      ]
     },
     "execution_count": 14,
     "metadata": {},
     "output_type": "execute_result"
    }
   ],
   "source": [
    "from langchain.agents import initialize_agent\n",
    "zero_shot_agent = initialize_agent(\n",
    "    agent=\"zero-shot-react-description\",\n",
    "    tools = tools,\n",
    "    llm = llm,\n",
    "    verbose = True\n",
    ")\n",
    "zero_shot_agent.invoke(\"What is root over 25?\")"
   ]
  },
  {
   "cell_type": "code",
   "execution_count": 15,
   "id": "ecf896a4",
   "metadata": {},
   "outputs": [
    {
     "name": "stdout",
     "output_type": "stream",
     "text": [
      "\n",
      "\n",
      "\u001b[1m> Entering new AgentExecutor chain...\u001b[0m\n",
      "\u001b[32;1m\u001b[1;3m I need to calculate the area of each room and then add them together.\n",
      "Action: Calculator\n",
      "Action Input: 5 x 5\u001b[0m\n",
      "Observation: \u001b[36;1m\u001b[1;3mAnswer: 25\u001b[0m\n",
      "Thought:\u001b[32;1m\u001b[1;3m I now know the area of one bedroom.\n",
      "Action: Calculator\n",
      "Action Input: 7 x 6\u001b[0m\n",
      "Observation: \u001b[36;1m\u001b[1;3mAnswer: 42\u001b[0m\n",
      "Thought:\u001b[32;1m\u001b[1;3m I now know the area of the drawing cum open kitchen.\n",
      "Action: Calculator\n",
      "Action Input: 3 x 2\u001b[0m\n",
      "Observation: \u001b[36;1m\u001b[1;3mAnswer: 6\u001b[0m\n",
      "Thought:\u001b[32;1m\u001b[1;3m I now know the area of the balcony.\n",
      "Action: Calculator\n",
      "Action Input: 25 + 25 + 42 + 6\u001b[0m\n",
      "Observation: \u001b[36;1m\u001b[1;3mAnswer: 98\u001b[0m\n",
      "Thought:\u001b[32;1m\u001b[1;3m I have added the areas of all the rooms together.\n",
      "Final Answer: The total area of the house is 98 square meters.\u001b[0m\n",
      "\n",
      "\u001b[1m> Finished chain.\u001b[0m\n"
     ]
    },
    {
     "data": {
      "text/plain": [
       "{'input': '\\n        You are building a house. \\n        There are two bedrooms of 5 meters by 5 meters each, \\n        a drawing cum open kitchen is 7 meters by 6 meters, \\n        and a balcony of 3 meters by 2 meters. \\n        What is the total area of your house?\\n        ',\n",
       " 'output': 'The total area of the house is 98 square meters.'}"
      ]
     },
     "execution_count": 15,
     "metadata": {},
     "output_type": "execute_result"
    }
   ],
   "source": [
    "problem = \"\"\"\n",
    "        You are building a house. \n",
    "        There are two bedrooms of 5 meters by 5 meters each, \n",
    "        a drawing cum open kitchen is 7 meters by 6 meters, \n",
    "        and a balcony of 3 meters by 2 meters. \n",
    "        What is the total area of your house?\n",
    "        \"\"\"\n",
    "# Bạn đang xây dựng một ngôi nhà. \n",
    "# Có hai phòng ngủ rộng 5m x 5m, \n",
    "# phòng khách kiêm bếp mở rộng 7m x 6m, \n",
    "# ban công rộng 3m x 2m. \n",
    "# Tổng diện tích ngôi nhà của bạn là bao nhiêu?\n",
    "zero_shot_agent.invoke(problem)"
   ]
  },
  {
   "cell_type": "markdown",
   "id": "8b64e53e",
   "metadata": {},
   "source": [
    "### Using Multiple Tools\n",
    "\n",
    "In the following example, we will use the Duck Duck Go search API as a tool combined with the math tool. We will give the Agent a problem that initiates a search first, followed by a Calculation.\n",
    "\n",
    "→ <i>Trong ví dụ sau, chúng ta sẽ sử dụng API tìm kiếm Duck Duck Go làm công cụ kết hợp với công cụ toán học. Chúng tôi sẽ cung cấp cho Agent một vấn đề để bắt đầu tìm kiếm trước, sau đó là Tính toán.</i>"
   ]
  },
  {
   "cell_type": "code",
   "execution_count": 18,
   "id": "d9d8bd11",
   "metadata": {},
   "outputs": [],
   "source": [
    "# define the tools\n",
    "from langchain.tools import DuckDuckGoSearchRun\n",
    "search = DuckDuckGoSearchRun()\n",
    "search_tool = Tool.from_function(\n",
    "    func=search.run,\n",
    "    name = \"Search\",\n",
    "    description = \"Useful for when you need to search the internet for information\"\n",
    ")\n",
    "llm_math_chain = LLMMathChain.from_llm(llm=llm,verbose=True)\n",
    "math_tool = Tool(\n",
    "    name='Calculator',\n",
    "    func=llm_math_chain.run,\n",
    "    description='Useful for when you need to answer questiond about math.'\n",
    ")\n",
    "\n",
    "tools = [search_tool,math_tool]"
   ]
  },
  {
   "cell_type": "code",
   "execution_count": 20,
   "id": "2b5c45b6",
   "metadata": {},
   "outputs": [
    {
     "name": "stdout",
     "output_type": "stream",
     "text": [
      "\n",
      "\n",
      "\u001b[1m> Entering new AgentExecutor chain...\u001b[0m\n",
      "\u001b[32;1m\u001b[1;3m I should search for a website that displays the current Bitcoin price.\n",
      "Action: Search\n",
      "Action Input: \"Bitcoin price Binance\"\u001b[0m\n",
      "Observation: \u001b[36;1m\u001b[1;3mPrice of BTC today. The live price of Bitcoin is $ 69,084.08 per (BTC / USD) with a current market cap of $ 1,359.44B USD. 24-hour trading volume is $ 36.22B USD. BTC to USD price is updated in real-time. Bitcoin is -3.66% in the last 24 hours with a circulating supply of 19.68M. The live price of Bitcoin is $ 69,365.10 per (BTC / USD) with a current market cap of $ 1,364.85B USD. 24-hour trading volume is $ 21.28B USD. ... The percentage of Binance customers who increased or decreased their net position in BTC over the past 24 hours through trading. Register Now. Bitcoin temporarily surged to as much as $138,000 on crypto exchange Binance.US earlier today in a sudden price wick on the btc/tether trading pair, exchange data shows. Prices shot ... The price of bitcoin, or 1 BTC, traded at $69,995.30, as of 8 a.m. ET. The highest intraday price that the original crypto reached in the past year was $73,835.57 on March 14, 2024. Binance Bitcoin Price Historical Data Binance Bitcoin USD (Historical Data) 7d 14d 1m 3m YTD 1y .xls (Excel) .csv Date Market Cap Volume Open Close 2024-04-06 $0.000000000000000000 $51,521,662 $67,976 N/A 2024-04-05 $0.000000000000000000 $63,778,573 $68,689 $67,976 2024-04-04 $0.000000000000000000\u001b[0m\n",
      "Thought:\u001b[32;1m\u001b[1;3m I now know the current Bitcoin price on Binance.\n",
      "Action: Search\n",
      "Action Input: \"Bitcoin price Binance VND\"\u001b[0m\n",
      "Observation: \u001b[36;1m\u001b[1;3m2024-04-10 - The live price of BTC is ₫1.73B with a market cap of ₫33,994,864.93B VND. Discover current price, trading volume, historical data, BTC news, and more. Buy Crypto. Markets. Trade. Basic. Spot. ... If you are looking for quick access to your BTC to facilitate trading, you can consider storing your Bitcoin on the Binance exchange. ... The live price of Bitcoin is $ 69,365.10 per (BTC / USD) with a current market cap of $ 1,364.85B USD. 24-hour trading volume is $ 21.28B USD. ... The percentage of Binance customers who increased or decreased their net position in BTC over the past 24 hours through trading. ... 1 BTC to VND: $ 69,365.10: 1 BTC to INR: $ 69,365.10: Last updated ... The daily exchange rate of Bitcoin (BTC) to VND fluctuated between a high of ₫1,808,678,786 on Monday and a low of ₫1,622,922,397 on Wednesday in the last 7 days. Within the week, the price of BTC in VND had the largest 24-hour price movement on Wednesday (5 days ago) by -₫108,094,215 ( 6.2% ). Compare the daily prices of Bitcoin (BTC) in ... The BTC to VND conversion rate today is ₫1,780,747,401.81 and has increased by 0.54% in the last 24 hours. Our converter updates in real time giving you accurate data every time you use it to make a conversion. The current price direction of Bitcoin is increasing because BTC is up 50.08% in the last 30 days. How to Buy Bitcoin in. Vietnam. We found 9 trusted online cryptocurrency exchanges operating in Vietnam including BitcoinVN, VBTC, and Binance. Alon Shvartsman. Last updated: April 04, 2024. We may receive compensation when you click certain products. Before getting started, an important disclosure.\u001b[0m\n",
      "Thought:\u001b[32;1m\u001b[1;3m I now know the current Bitcoin price on Binance in VND.\n",
      "Final Answer: The current Bitcoin price on Binance is $69,365.10 per BTC/USD and ₫1.73B per BTC/VND.\u001b[0m\n",
      "\n",
      "\u001b[1m> Finished chain.\u001b[0m\n"
     ]
    },
    {
     "data": {
      "text/plain": [
       "{'input': 'Get Bitcoin Price taken from Binance and display in both USD and VND values',\n",
       " 'output': 'The current Bitcoin price on Binance is $69,365.10 per BTC/USD and ₫1.73B per BTC/VND.'}"
      ]
     },
     "execution_count": 20,
     "metadata": {},
     "output_type": "execute_result"
    },
    {
     "name": "stderr",
     "output_type": "stream",
     "text": [
      "C:\\Users\\ASUS\\anaconda3\\lib\\site-packages\\curl_cffi\\aio.py:205: UserWarning: Curlm alread closed! quitting from process_data\n",
      "  warnings.warn(\"Curlm alread closed! quitting from process_data\")\n"
     ]
    }
   ],
   "source": [
    "# Define agent\n",
    "zero_shot_agent = initialize_agent(\n",
    "    agent=\"zero-shot-react-description\",\n",
    "    tools = tools,\n",
    "    llm = llm,\n",
    "    verbose = True\n",
    ")\n",
    "zero_shot_agent.invoke(\"Get Bitcoin Price taken from Binance and display in both USD and VND values\")"
   ]
  },
  {
   "cell_type": "markdown",
   "id": "f0d60d62",
   "metadata": {},
   "source": [
    "### Create a custom tool"
   ]
  },
  {
   "cell_type": "code",
   "execution_count": 34,
   "id": "9a20292b",
   "metadata": {},
   "outputs": [
    {
     "name": "stdout",
     "output_type": "stream",
     "text": [
      "\n",
      "\n",
      "\u001b[1m> Entering new AgentExecutor chain...\u001b[0m\n",
      "\u001b[32;1m\u001b[1;3m I need to use the lower_case tool to send the prompt and get the JSON response.\n",
      "Action: lower_case\n",
      "Action Input: \"Which is the top men football team in the world and how, the response should have three files in the JSON - topic of the question, question and detailed response\"\u001b[0m\n",
      "Observation: \u001b[36;1m\u001b[1;3m{'Topic': \"Top Men's Football Team in the World\", 'Question': \"Which is the top men's football team in the world?\", 'Response': \"The top men's football team in the world is currently considered to be the Belgium national football team. This determination is based on the FIFA World Ranking, which ranks national teams based on their performance in international matches. As of September 2021, Belgium holds the top spot in the FIFA World Ranking, followed by Brazil and England. Belgium's rise to the top can be attributed to their consistent success in major tournaments, including reaching the semi-finals of the 2018 FIFA World Cup and finishing third in the 2020-21 UEFA Nations League. Additionally, Belgium boasts a talented squad with world-class players such as Kevin De Bruyne, Romelu Lukaku, and Eden Hazard. However, rankings and opinions can always change in the world of football, so the top spot is always up for debate.\"}\u001b[0m\n",
      "\u001b[32;1m\u001b[1;3m\u001b[0m\n",
      "\n",
      "\u001b[1m> Finished chain.\u001b[0m\n"
     ]
    },
    {
     "data": {
      "text/plain": [
       "{'input': 'Which is the top men football team in the world and how, the response should have three files in the JSON - topic of the question, question and detailed response',\n",
       " 'output': {'Topic': \"Top Men's Football Team in the World\",\n",
       "  'Question': \"Which is the top men's football team in the world?\",\n",
       "  'Response': \"The top men's football team in the world is currently considered to be the Belgium national football team. This determination is based on the FIFA World Ranking, which ranks national teams based on their performance in international matches. As of September 2021, Belgium holds the top spot in the FIFA World Ranking, followed by Brazil and England. Belgium's rise to the top can be attributed to their consistent success in major tournaments, including reaching the semi-finals of the 2018 FIFA World Cup and finishing third in the 2020-21 UEFA Nations League. Additionally, Belgium boasts a talented squad with world-class players such as Kevin De Bruyne, Romelu Lukaku, and Eden Hazard. However, rankings and opinions can always change in the world of football, so the top spot is always up for debate.\"}}"
      ]
     },
     "execution_count": 34,
     "metadata": {},
     "output_type": "execute_result"
    }
   ],
   "source": [
    "from langchain.tools import BaseTool\n",
    "from langchain_core.output_parsers import JsonOutputParser\n",
    "from langchain.agents import tool\n",
    "from langchain import PromptTemplate\n",
    "@tool(\"lower_case\", return_direct=True)\n",
    "def StructureResponseTool(question:str):\n",
    "    \"\"\"\n",
    "    Use this tool to send a prompt and get a JSON returned\n",
    "    with three filed - Topic, Question_Detailed and Response_Detailed\n",
    "    \"\"\"\n",
    "    json_prompt = PromptTemplate.from_template(\n",
    "        \"\"\"\n",
    "        Return a JSON object with an `answer` key that answers the following question: {question}.\n",
    "        The JSON object will have three fields - Topic, Question and Response\n",
    "        \"\"\"\n",
    "    )\n",
    "    model = OpenAI(openai_api_key=api_key,model=\"gpt-3.5-turbo-instruct\",temperature=0.5)\n",
    "    json_parser = JsonOutputParser()\n",
    "    json_chain = json_prompt | model | json_parser\n",
    "    response = json_chain.invoke({\"question\":question})\n",
    "    return response\n",
    "tools = [StructureResponseTool]\n",
    "# init agent with tool\n",
    "zero_shot_agent = initialize_agent(\n",
    "    agent=AgentType.ZERO_SHOT_REACT_DESCRIPTION,\n",
    "    tools = tools,\n",
    "    llm = llm,\n",
    "    verbose = True\n",
    ")\n",
    "zero_shot_agent.invoke(\"Which is the top men football team in the world and how, the response should have three files in the JSON - topic of the question, question and detailed response\")"
   ]
  }
 ],
 "metadata": {
  "kernelspec": {
   "display_name": "Python 3 (ipykernel)",
   "language": "python",
   "name": "python3"
  },
  "language_info": {
   "codemirror_mode": {
    "name": "ipython",
    "version": 3
   },
   "file_extension": ".py",
   "mimetype": "text/x-python",
   "name": "python",
   "nbconvert_exporter": "python",
   "pygments_lexer": "ipython3",
   "version": "3.9.13"
  }
 },
 "nbformat": 4,
 "nbformat_minor": 5
}
