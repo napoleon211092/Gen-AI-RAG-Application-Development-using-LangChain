{
 "cells": [
  {
   "cell_type": "markdown",
   "id": "e2b0db84",
   "metadata": {},
   "source": [
    "## Getting a bit more deeper into Agent"
   ]
  },
  {
   "cell_type": "markdown",
   "id": "7ea10ada",
   "metadata": {},
   "source": [
    "### Conversational ReAct Agent\n",
    "\n",
    "This agent is designed for use in conversational settings. It incorporates the ReAct framework to determine which tool to use and utilizes memory to member previous conversation interactions.\n",
    "\n",
    "→ <i>Agent này được thiết kế để sử dụng trong đàm thoại. Nó kết ReAct framework để xác định công cụ nào sẽ sử dụng và tận dụng bộ nhớ để ghi lại các tương tác hội thoại trước đó.</i>"
   ]
  },
  {
   "cell_type": "code",
   "execution_count": 74,
   "id": "b576d6ec",
   "metadata": {},
   "outputs": [],
   "source": [
    "import os\n",
    "from dotenv import load_dotenv\n",
    "import openai\n",
    "from langchain_openai import OpenAI, ChatOpenAI\n",
    "from langchain.agents import Tool, AgentType, initialize_agent, load_tools, AgentExecutor\n",
    "from langchain.memory import ConversationBufferMemory"
   ]
  },
  {
   "cell_type": "code",
   "execution_count": 40,
   "id": "cd6bab2e",
   "metadata": {},
   "outputs": [],
   "source": [
    "# Setup model\n",
    "load_dotenv()\n",
    "api_key = os.getenv('OPENAI_API_KEY')\n",
    "openai.api_key = api_key"
   ]
  },
  {
   "cell_type": "code",
   "execution_count": 41,
   "id": "4f59f5ea",
   "metadata": {},
   "outputs": [],
   "source": [
    "llm = ChatOpenAI(openai_api_key=api_key,model=\"gpt-3.5-turbo-0125\",temperature=0.5)"
   ]
  },
  {
   "cell_type": "code",
   "execution_count": 42,
   "id": "3d7548d1",
   "metadata": {},
   "outputs": [],
   "source": [
    "tools = load_tools([\"llm-math\"],llm=llm)"
   ]
  },
  {
   "cell_type": "code",
   "execution_count": 43,
   "id": "005a2b18",
   "metadata": {},
   "outputs": [],
   "source": [
    "memory = ConversationBufferMemory(memory_key=\"chat_history\")\n",
    "conversational_agent = initialize_agent(\n",
    "    agent=AgentType.CONVERSATIONAL_REACT_DESCRIPTION,\n",
    "    tools = tools,\n",
    "    llm = llm,\n",
    "    verbose = True,\n",
    "    memory = memory\n",
    ")"
   ]
  },
  {
   "cell_type": "code",
   "execution_count": 44,
   "id": "6928f803",
   "metadata": {},
   "outputs": [
    {
     "name": "stdout",
     "output_type": "stream",
     "text": [
      "\n",
      "\n",
      "\u001b[1m> Entering new AgentExecutor chain...\u001b[0m\n",
      "\u001b[32;1m\u001b[1;3mThought: Do I need to use a tool? Yes\n",
      "Action: Calculator\n",
      "Action Input: Add 7 to 9\u001b[0m\n",
      "Observation: \u001b[36;1m\u001b[1;3mAnswer: 16\u001b[0m\n",
      "Thought:\u001b[32;1m\u001b[1;3mDo I need to use a tool? No\n",
      "AI: The result of adding 7 to 9 is 16.\u001b[0m\n",
      "\n",
      "\u001b[1m> Finished chain.\u001b[0m\n",
      "\n",
      "\n",
      "\u001b[1m> Entering new AgentExecutor chain...\u001b[0m\n",
      "\u001b[32;1m\u001b[1;3mThought: Do I need to use a tool? Yes\n",
      "Action: Calculator\n",
      "Action Input: Add 16 to 5\u001b[0m\n",
      "Observation: \u001b[36;1m\u001b[1;3mAnswer: 21\u001b[0m\n",
      "Thought:\u001b[32;1m\u001b[1;3mDo I need to use a tool? No\n",
      "AI: The result of adding 16 to 5 is 21.\u001b[0m\n",
      "\n",
      "\u001b[1m> Finished chain.\u001b[0m\n"
     ]
    }
   ],
   "source": [
    "output_1 = conversational_agent.invoke(\"Add 7 to 9 and tell me the result\")\n",
    "output_2 = conversational_agent.run(\"Add 5 to previous result\")"
   ]
  },
  {
   "cell_type": "markdown",
   "id": "3cd4eae0",
   "metadata": {},
   "source": [
    "### DocStore ReAct Agent\n",
    "\n",
    "This <b>Agent</b> utilizes the <b>ReAct framework</b> to communicate with the docstore. It requires the availability of a <b>Search tool</b> and a <b>Lookup tool</b> with identical names. The Search tool is used to search for a document, while the Lookup tool looks up a term within the most recently found document.\n",
    "\n",
    "→ <i> Agent này sử dụng ReAct framework để liên lạc với kho tài liệu. Nó yêu cầu có sẵn công cụ Tìm kiếm và công cụ Tra cứu có tên giống hệt nhau. Công cụ Tìm kiếm được sử dụng để tìm kiếm tài liệu, trong khi công cụ Tra cứu tra cứu một thuật ngữ trong tài liệu được tìm thấy gần đây nhất.</i>"
   ]
  },
  {
   "cell_type": "code",
   "execution_count": 56,
   "id": "0d27be4a",
   "metadata": {},
   "outputs": [],
   "source": [
    "from langchain import Wikipedia\n",
    "from langchain.agents.react.base import DocstoreExplorer"
   ]
  },
  {
   "cell_type": "code",
   "execution_count": 84,
   "id": "cf0db117",
   "metadata": {},
   "outputs": [
    {
     "name": "stdout",
     "output_type": "stream",
     "text": [
      "\n",
      "\n",
      "\u001b[1m> Entering new AgentExecutor chain...\u001b[0m\n",
      "\u001b[32;1m\u001b[1;3mThought: I need to search for information about Napoleon to provide a few key points about him.\n",
      "Action: Search[Napoleon]\u001b[0m\n",
      "Observation: \u001b[36;1m\u001b[1;3mNapoleon Bonaparte (born Napoleone di Buonaparte; 15 August 1769 – 5 May 1821), later known by his regnal name Napoleon I, was a French emperor and military commander who rose to prominence during the French Revolution and led successful campaigns during the Revolutionary Wars. He was the leader of the French Republic as First Consul from 1799 to 1804, then of the French Empire as Emperor of the French from 1804 until 1814, and briefly again in 1815. His political and cultural legacy endures as a celebrated and controversial leader. He initiated many enduring reforms, but has been criticized for his authoritarian rule. He is considered one of the greatest military commanders in history and his wars and campaigns are still studied at military schools worldwide. However, historians still debate the degree to which he was responsible for the Napoleonic Wars, in which between three and six million people died.Napoleon was born on the island of Corsica into a family descended from Italian nobility. He was resentful of the French monarchy, and supported the French Revolution in 1789 while serving in the French army, trying to spread its ideals to his native Corsica. He rose rapidly in the ranks after saving the governing French Directory by firing on royalist insurgents. In 1796, he began a military campaign against the Austrians and their Italian allies, scoring decisive victories, and became a national hero. Two years later he led a military expedition to Egypt that served as a springboard to political power. He engineered a coup in November 1799 and became First Consul of the Republic. In 1804, to consolidate and expand his power, he crowned himself Emperor of the French.\n",
      "Differences with the United Kingdom meant France faced the War of the Third Coalition by 1805. Napoleon shattered this coalition with victories in the Ulm campaign and at the Battle of Austerlitz, which led to the dissolution of the Holy Roman Empire. In 1806, the Fourth Coalition took up arms against him. Napoleon defeated Prussia at the battles of Jena and Auerstedt, marched the Grande Armée into Eastern Europe, and defeated the Russians in June 1807 at Friedland, forcing the defeated nations of the Fourth Coalition to accept the Treaties of Tilsit. Two years later, the Austrians challenged the French again during the War of the Fifth Coalition, but Napoleon solidified his grip over Europe after triumphing at the Battle of Wagram.\n",
      "Hoping to extend the Continental System, his embargo against Britain, Napoleon invaded the Iberian Peninsula and declared his brother Joseph the King of Spain in 1808. The Spanish and the Portuguese revolted in the Peninsular War aided by a British army, culminating in defeat for Napoleon's marshals. Napoleon launched an invasion of Russia in the summer of 1812. The resulting campaign witnessed the catastrophic retreat of Napoleon's Grande Armée. In 1813, Prussia and Austria joined Russian forces in a Sixth Coalition against France, resulting in a large coalition army defeating Napoleon at the Battle of Leipzig. The coalition invaded France and captured Paris, forcing Napoleon to abdicate in April 1814. He was exiled to the island of Elba, between Corsica and Italy. In France, the Bourbons were restored to power.\n",
      "Napoleon escaped in February 1815 and took control of France. The Allies responded by forming a Seventh Coalition, which defeated Napoleon at the Battle of Waterloo in June 1815. The British exiled him to the remote island of Saint Helena in the Atlantic, where he died in 1821 at the age of 51.\n",
      "Napoleon had a lasting impact on the world, bringing modernizing reforms to France and Western Europe and stimulating the development of nation states. He also sold the Louisiana Territory to the United States in 1803, doubling the latter's size. However, his mixed record on civil rights and exploitation of conquered territories adversely affect his reputation.\u001b[0m\n",
      "Thought:\u001b[32;1m\u001b[1;3mCould not parse LLM Output: Key points about Napoleon:\n",
      "1. Napoleon Bonaparte was a French emperor and military commander who rose to prominence during the French Revolution.\n",
      "2. He led successful campaigns during the Revolutionary Wars and was known for his military prowess.\n",
      "3. Napoleon crowned himself Emperor of the French in 1804 and ruled until 1814, with a brief return in 1815.\n",
      "4. He initiated many enduring reforms in France and Western Europe, but his authoritarian rule has been criticized.\n",
      "5. Napoleon is considered one of the greatest military commanders in history, with his wars and campaigns still studied worldwide.\n",
      "6. He was born on the island of Corsica and played a significant role in spreading the ideals of the French Revolution.\n",
      "7. Napoleon faced various coalitions and wars, including the War of the Third Coalition and the Peninsular War.\n",
      "8. His invasion of Russia in 1812 and subsequent defeat at the Battle of Leipzig led to his abdication in 1814.\n",
      "9. Napoleon escaped exile in 1815 but was defeated at the Battle of Waterloo and exiled to Saint Helena, where he died in 1821.\n",
      "10. His legacy includes modernizing reforms, the sale of the Louisiana Territory to the United States, and the development of nation-states, but his record on civil rights and conquests has been controversial.\u001b[0m\n",
      "Observation: Invalid or incomplete response\n",
      "Thought:\u001b[32;1m\u001b[1;3m\u001b[0m\n",
      "\n",
      "\u001b[1m> Finished chain.\u001b[0m\n"
     ]
    },
    {
     "data": {
      "text/plain": [
       "{'input': 'Tell me few key things about Napoleon',\n",
       " 'output': 'Agent stopped due to iteration limit or time limit.',\n",
       " 'intermediate_steps': [(AgentAction(tool='Search', tool_input='Napoleon', log='Thought: I need to search for information about Napoleon to provide a few key points about him.\\nAction: Search[Napoleon]'),\n",
       "   \"Napoleon Bonaparte (born Napoleone di Buonaparte; 15 August 1769 – 5 May 1821), later known by his regnal name Napoleon I, was a French emperor and military commander who rose to prominence during the French Revolution and led successful campaigns during the Revolutionary Wars. He was the leader of the French Republic as First Consul from 1799 to 1804, then of the French Empire as Emperor of the French from 1804 until 1814, and briefly again in 1815. His political and cultural legacy endures as a celebrated and controversial leader. He initiated many enduring reforms, but has been criticized for his authoritarian rule. He is considered one of the greatest military commanders in history and his wars and campaigns are still studied at military schools worldwide. However, historians still debate the degree to which he was responsible for the Napoleonic Wars, in which between three and six million people died.Napoleon was born on the island of Corsica into a family descended from Italian nobility. He was resentful of the French monarchy, and supported the French Revolution in 1789 while serving in the French army, trying to spread its ideals to his native Corsica. He rose rapidly in the ranks after saving the governing French Directory by firing on royalist insurgents. In 1796, he began a military campaign against the Austrians and their Italian allies, scoring decisive victories, and became a national hero. Two years later he led a military expedition to Egypt that served as a springboard to political power. He engineered a coup in November 1799 and became First Consul of the Republic. In 1804, to consolidate and expand his power, he crowned himself Emperor of the French.\\nDifferences with the United Kingdom meant France faced the War of the Third Coalition by 1805. Napoleon shattered this coalition with victories in the Ulm campaign and at the Battle of Austerlitz, which led to the dissolution of the Holy Roman Empire. In 1806, the Fourth Coalition took up arms against him. Napoleon defeated Prussia at the battles of Jena and Auerstedt, marched the Grande Armée into Eastern Europe, and defeated the Russians in June 1807 at Friedland, forcing the defeated nations of the Fourth Coalition to accept the Treaties of Tilsit. Two years later, the Austrians challenged the French again during the War of the Fifth Coalition, but Napoleon solidified his grip over Europe after triumphing at the Battle of Wagram.\\nHoping to extend the Continental System, his embargo against Britain, Napoleon invaded the Iberian Peninsula and declared his brother Joseph the King of Spain in 1808. The Spanish and the Portuguese revolted in the Peninsular War aided by a British army, culminating in defeat for Napoleon's marshals. Napoleon launched an invasion of Russia in the summer of 1812. The resulting campaign witnessed the catastrophic retreat of Napoleon's Grande Armée. In 1813, Prussia and Austria joined Russian forces in a Sixth Coalition against France, resulting in a large coalition army defeating Napoleon at the Battle of Leipzig. The coalition invaded France and captured Paris, forcing Napoleon to abdicate in April 1814. He was exiled to the island of Elba, between Corsica and Italy. In France, the Bourbons were restored to power.\\nNapoleon escaped in February 1815 and took control of France. The Allies responded by forming a Seventh Coalition, which defeated Napoleon at the Battle of Waterloo in June 1815. The British exiled him to the remote island of Saint Helena in the Atlantic, where he died in 1821 at the age of 51.\\nNapoleon had a lasting impact on the world, bringing modernizing reforms to France and Western Europe and stimulating the development of nation states. He also sold the Louisiana Territory to the United States in 1803, doubling the latter's size. However, his mixed record on civil rights and exploitation of conquered territories adversely affect his reputation.\"),\n",
       "  (AgentAction(tool='_Exception', tool_input='Invalid or incomplete response', log='Could not parse LLM Output: Key points about Napoleon:\\n1. Napoleon Bonaparte was a French emperor and military commander who rose to prominence during the French Revolution.\\n2. He led successful campaigns during the Revolutionary Wars and was known for his military prowess.\\n3. Napoleon crowned himself Emperor of the French in 1804 and ruled until 1814, with a brief return in 1815.\\n4. He initiated many enduring reforms in France and Western Europe, but his authoritarian rule has been criticized.\\n5. Napoleon is considered one of the greatest military commanders in history, with his wars and campaigns still studied worldwide.\\n6. He was born on the island of Corsica and played a significant role in spreading the ideals of the French Revolution.\\n7. Napoleon faced various coalitions and wars, including the War of the Third Coalition and the Peninsular War.\\n8. His invasion of Russia in 1812 and subsequent defeat at the Battle of Leipzig led to his abdication in 1814.\\n9. Napoleon escaped exile in 1815 but was defeated at the Battle of Waterloo and exiled to Saint Helena, where he died in 1821.\\n10. His legacy includes modernizing reforms, the sale of the Louisiana Territory to the United States, and the development of nation-states, but his record on civil rights and conquests has been controversial.'),\n",
       "   'Invalid or incomplete response')]}"
      ]
     },
     "execution_count": 84,
     "metadata": {},
     "output_type": "execute_result"
    }
   ],
   "source": [
    "# docstore = DocstoreExplorer(Wikipedia())\n",
    "tools = [\n",
    "    Tool(name=\"Search\",func=docstore.search,description=\"Useful for when you need to search Wikipedia\"),\n",
    "    Tool(name=\"Lookup\",func=docstore.lookup,description=\"Useful for when you need to lookup a term in Wikipedia\"),\n",
    "]\n",
    "llm = ChatOpenAI(openai_api_key=api_key,temperature=0)\n",
    "docstore_agent = initialize_agent(\n",
    "    agent=AgentType.REACT_DOCSTORE,\n",
    "    tools = tools,\n",
    "    llm = llm,\n",
    "    verbose = True,\n",
    "    handle_parsing_errors=True,\n",
    "    return_intermediate_steps=True,\n",
    "    max_iterations=2\n",
    ")\n",
    "docstore_agent.invoke(\"Tell me few key things about Napoleon\")"
   ]
  },
  {
   "cell_type": "markdown",
   "id": "38344201",
   "metadata": {},
   "source": [
    "### Self-Ask Agents\n",
    "\n",
    "The Self-Ask approach allows an LLM to give answers to a question on which it was not explicitly trained. The model might not have a direct answer to a question, but answers to sub-questions will exist in the LLM dataset. It achieves this by obtaining an Intermediate Answer.\n",
    "\n",
    "→ <i>Cách tiếp cận Tự hỏi cho phép LLM đưa ra câu trả lời cho một câu hỏi mà nó chưa được đào tạo rõ ràng. Mô hình có thể không có câu trả lời trực tiếp cho một câu hỏi nhưng câu trả lời cho các câu hỏi phụ sẽ tồn tại trong bộ dữ liệu LLM. Nó đạt được điều này bằng cách nhận được Câu trả lời trung gian.</i>"
   ]
  },
  {
   "cell_type": "markdown",
   "id": "5b8a7b71",
   "metadata": {},
   "source": [
    "![Self-Ask Agent](self-ask.png)"
   ]
  },
  {
   "cell_type": "code",
   "execution_count": 72,
   "id": "6a8b18b1",
   "metadata": {},
   "outputs": [
    {
     "name": "stdout",
     "output_type": "stream",
     "text": [
      "\n",
      "\n",
      "\u001b[1m> Entering new AgentExecutor chain...\u001b[0m\n",
      "\u001b[32;1m\u001b[1;3mYes.\n",
      "Follow up: When was the nuclear bomb first invented?\u001b[0m\n",
      "Intermediate answer: \u001b[36;1m\u001b[1;3mManhattan Project, U.S. government research project (1942-45) that produced the first atomic bombs. The project's name was derived from its initial location at Columbia University, where much of the early research was done. The first bomb was exploded in a test at Alamogordo air base in southern New Mexico on July 16, 1945. Manhattan District The Trinity test of the Manhattan Project on 16 July 1945 was the first detonation of a nuclear weapon. Active 1942-1946 Disbanded 15 August 1947 Country United States United Kingdom Canada Branch U.S. Army Corps of Engineers Garrison/HQ Oak Ridge, Tennessee, U.S. Anniversaries 13 August 1942 Engagements Allied invasion of Italy Allied invasion of France Allied invasion of ... J. Robert Oppenheimer is known as the \"father of the atomic bomb\" for his role in creating the first nuclear weapon during World War II. The theoretical physicist was director of the Manhattan ... atomic bombing of Hiroshima. A gigantic mushroom cloud rising above Hiroshima, Japan, on August 6, 1945, after a U.S. aircraft dropped an atomic bomb on the city, immediately killing more than 70,000 people. (more) Fission releases an enormous amount of energy relative to the material involved. When Was the Atomic Bomb Invented? The atomic bomb was developed during World War II as part of the Manhattan Project, a top-secret U.S. research and development program. Its development was a complex and ongoing process, and the first successful atomic bomb test, codenamed \"Trinity,\" took place on July 16, 1945, in New Mexico, United States.\u001b[0m\n",
      "\u001b[32;1m\u001b[1;3mFollow up: Who was the US president during the Trinity test in 1945?\u001b[0m\n",
      "Intermediate answer: \u001b[36;1m\u001b[1;3mTrinity was the code name of the first detonation of a nuclear weapon, conducted by the United States Army at 5:29 a.m. MWT (11:29:21 GMT) on July 16, 1945, as part of the Manhattan Project.The test was of an implosion-design plutonium bomb, nicknamed the \"gadget\", of the same design as the Fat Man bomb later detonated over Nagasaki, Japan, on August 9, 1945. On July 16, 1945, J. Robert Oppenheimer and the Manhattan Project scientists detonated an atomic bomb for the first time ever at the Trinity test site in New Mexico. The explosion took place more ... \"New Mexico residents were neither warned before the 1945 Trinity blast, informed of health hazards afterward, nor evacuated before, during, or after the test,\" according to a 2010 report by the ... The world's second atomic bomb, codenamed \"Little Boy,\" was exploded over Hiroshima, Japan, on August 6, 1945. Three days later, a third bomb codenamed \"Fat Man,\" devastated the city of Nagasaki. The Hiroshima bombing was the second artificial nuclear explosion in history, after the Trinity test, and the first uranium-based detonation. The Trinity Nuclear Test on 16 July 1945 is a key incident in the blockbuster Oppenheimer movie and in the history of humankind. Many scientists think it marks the beginning of the Anthropocene, a new geological era characterized by humanity's influence on the Earth. That's because Trinity's radioactive fallout will forever appear in the ...\u001b[0m\n",
      "\u001b[32;1m\u001b[1;3mIntermediate answer: The US president during the Trinity test in 1945 was Harry S. Truman.\n",
      "So the final answer is: Harry S. Truman\u001b[0m\n",
      "\n",
      "\u001b[1m> Finished chain.\u001b[0m\n"
     ]
    },
    {
     "data": {
      "text/plain": [
       "{'input': 'Question: Who was the US president when the nuclear bomb was first invented? ',\n",
       " 'output': 'Harry S. Truman',\n",
       " 'intermediate_steps': [(AgentAction(tool='Intermediate Answer', tool_input='When was the nuclear bomb first invented?', log='Yes.\\nFollow up: When was the nuclear bomb first invented?'),\n",
       "   'Manhattan Project, U.S. government research project (1942-45) that produced the first atomic bombs. The project\\'s name was derived from its initial location at Columbia University, where much of the early research was done. The first bomb was exploded in a test at Alamogordo air base in southern New Mexico on July 16, 1945. Manhattan District The Trinity test of the Manhattan Project on 16 July 1945 was the first detonation of a nuclear weapon. Active 1942-1946 Disbanded 15 August 1947 Country United States United Kingdom Canada Branch U.S. Army Corps of Engineers Garrison/HQ Oak Ridge, Tennessee, U.S. Anniversaries 13 August 1942 Engagements Allied invasion of Italy Allied invasion of France Allied invasion of ... J. Robert Oppenheimer is known as the \"father of the atomic bomb\" for his role in creating the first nuclear weapon during World War II. The theoretical physicist was director of the Manhattan ... atomic bombing of Hiroshima. A gigantic mushroom cloud rising above Hiroshima, Japan, on August 6, 1945, after a U.S. aircraft dropped an atomic bomb on the city, immediately killing more than 70,000 people. (more) Fission releases an enormous amount of energy relative to the material involved. When Was the Atomic Bomb Invented? The atomic bomb was developed during World War II as part of the Manhattan Project, a top-secret U.S. research and development program. Its development was a complex and ongoing process, and the first successful atomic bomb test, codenamed \"Trinity,\" took place on July 16, 1945, in New Mexico, United States.'),\n",
       "  (AgentAction(tool='Intermediate Answer', tool_input='Who was the US president during the Trinity test in 1945?', log='Follow up: Who was the US president during the Trinity test in 1945?'),\n",
       "   'Trinity was the code name of the first detonation of a nuclear weapon, conducted by the United States Army at 5:29 a.m. MWT (11:29:21 GMT) on July 16, 1945, as part of the Manhattan Project.The test was of an implosion-design plutonium bomb, nicknamed the \"gadget\", of the same design as the Fat Man bomb later detonated over Nagasaki, Japan, on August 9, 1945. On July 16, 1945, J. Robert Oppenheimer and the Manhattan Project scientists detonated an atomic bomb for the first time ever at the Trinity test site in New Mexico. The explosion took place more ... \"New Mexico residents were neither warned before the 1945 Trinity blast, informed of health hazards afterward, nor evacuated before, during, or after the test,\" according to a 2010 report by the ... The world\\'s second atomic bomb, codenamed \"Little Boy,\" was exploded over Hiroshima, Japan, on August 6, 1945. Three days later, a third bomb codenamed \"Fat Man,\" devastated the city of Nagasaki. The Hiroshima bombing was the second artificial nuclear explosion in history, after the Trinity test, and the first uranium-based detonation. The Trinity Nuclear Test on 16 July 1945 is a key incident in the blockbuster Oppenheimer movie and in the history of humankind. Many scientists think it marks the beginning of the Anthropocene, a new geological era characterized by humanity\\'s influence on the Earth. That\\'s because Trinity\\'s radioactive fallout will forever appear in the ...')]}"
      ]
     },
     "execution_count": 72,
     "metadata": {},
     "output_type": "execute_result"
    },
    {
     "name": "stderr",
     "output_type": "stream",
     "text": [
      "C:\\Users\\ASUS\\anaconda3\\lib\\site-packages\\curl_cffi\\aio.py:205: UserWarning: Curlm alread closed! quitting from process_data\n",
      "  warnings.warn(\"Curlm alread closed! quitting from process_data\")\n"
     ]
    }
   ],
   "source": [
    "from langchain.tools import DuckDuckGoSearchRun\n",
    "search = DuckDuckGoSearchRun()\n",
    "tools = [\n",
    "    Tool(\n",
    "        func=search.run, \n",
    "        name=\"Intermediate Answer\",\n",
    "        description=\"Useful for when you need to search the Internet for information\"\n",
    "    )\n",
    "]\n",
    "agent = initialize_agent(\n",
    "    tools=tools,\n",
    "    llm=llm,\n",
    "    agent=AgentType.SELF_ASK_WITH_SEARCH,\n",
    "    verbose = True,\n",
    "    handle_parsing_errors=True,\n",
    "    return_intermediate_steps=True\n",
    ")\n",
    "agent.invoke(\"Question: Who was the US president when the nuclear bomb was first invented? \")"
   ]
  }
 ],
 "metadata": {
  "kernelspec": {
   "display_name": "Python 3 (ipykernel)",
   "language": "python",
   "name": "python3"
  },
  "language_info": {
   "codemirror_mode": {
    "name": "ipython",
    "version": 3
   },
   "file_extension": ".py",
   "mimetype": "text/x-python",
   "name": "python",
   "nbconvert_exporter": "python",
   "pygments_lexer": "ipython3",
   "version": "3.9.13"
  }
 },
 "nbformat": 4,
 "nbformat_minor": 5
}
