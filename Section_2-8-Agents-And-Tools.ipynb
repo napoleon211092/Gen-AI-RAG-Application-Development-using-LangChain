{
 "cells": [
  {
   "cell_type": "markdown",
   "id": "441c9d5c",
   "metadata": {},
   "source": [
    "## AGENTS"
   ]
  },
  {
   "cell_type": "markdown",
   "id": "cfb83722",
   "metadata": {},
   "source": [
    "Agents in Langchain are components that utilize <b>Language Models</b> and a sequence of actions.\n",
    "\n",
    "<i>→ Agents trong Langchain là các thành phần sử dụng mô hình ngôn ngữ và chuỗi hành động.</i>\n",
    "\n",
    "The agent uses a <b>Reasoning Engine</b> to determine which actions to take to get a result.\n",
    "\n",
    "<i>→ Agents sử dụng Công cụ lý luận để xác định hành động nào cần thực hiện để đạt được kết quả.</i>\n",
    "\n",
    "Agents are crucial for handling tasks ranging from simple automated responses to complex, context-aware interactions.\n",
    "\n",
    "<i>→ Agents đóng vai trò quan trọng trong việc xử lý các tác vụ từ phản hồi tự động đơn giản đến các tương tác phức tạp, nhận biết theo ngữ cảnh.</i>"
   ]
  },
  {
   "cell_type": "markdown",
   "id": "214cc6ea",
   "metadata": {},
   "source": [
    "![Agent-Tool Diagram](agent-tool.png)"
   ]
  },
  {
   "cell_type": "markdown",
   "id": "b1d8f20f",
   "metadata": {},
   "source": [
    "## TOOLS"
   ]
  },
  {
   "cell_type": "markdown",
   "id": "c7eb4303",
   "metadata": {},
   "source": [
    "Tools are interfaces that Agents can use to interact with the world. Tools typically comprise the following:\n",
    "\n",
    "<i>(Tools là các giao diện mà Agents có thể sử dụng để tương tác với thế giới. Các công cụ thường bao gồm:)</i>\n",
    "- The name of the tool \n",
    "- A description of what the tool is \n",
    "- JSON schema of what the inputs to the tool are\n",
    "- Should the result of a tool be returned directly to the user?\n",
    "\n",
    "Notably, the name, description, and JSON schema (if used) are all used in the <b>prompt</b>. Therefore, they must be clear and describe precisely how the tool should be used. You may need to change the default name, description, or JSON schema if the LLM does not understand how to use the tool.\n",
    "\n",
    "→ <i>Đáng chú ý là tên, mô tả và lược đồ JSON (nếu được sử dụng) đều được sử dụng trong prompt. Do đó, chúng phải rõ ràng và mô tả chính xác cách sử dụng công cụ này. Bạn có thể cần thay đổi tên mặc định, mô tả hoặc lược đồ JSON nếu LLM không hiểu cách sử dụng công cụ.</i>\n",
    "\n",
    "The Agent identifies key ideas in the user's questions, looks at all the tools we have put at its disposal (specifically the tools' titles and descriptions), and then, combined with the system prompt and the optional agent instructions, decides on which tool to use.\n",
    "\n",
    "→ <i>Agent xác định các ý tưởng chính trong câu hỏi của người dùng, xem xét tất cả các Tools mà chúng tôi sử dụng (cụ thể là tiêu đề và mô tả của các Tools), sau đó, kết hợp với <b>system prompt</b> và hướng dẫn cho Agent (tùy chọn), quyết định nên sử dụng Tool nào sử dụng.</i>"
   ]
  },
  {
   "cell_type": "code",
   "execution_count": 1,
   "id": "018d4c74",
   "metadata": {},
   "outputs": [],
   "source": [
    "import os\n",
    "from dotenv import load_dotenv\n",
    "import openai"
   ]
  },
  {
   "cell_type": "code",
   "execution_count": 2,
   "id": "5c7307ab",
   "metadata": {},
   "outputs": [],
   "source": [
    "# Setup model\n",
    "load_dotenv()\n",
    "api_key = os.getenv('OPENAI_API_KEY')\n",
    "openai.api_key = api_key"
   ]
  }
 ],
 "metadata": {
  "kernelspec": {
   "display_name": "Python 3 (ipykernel)",
   "language": "python",
   "name": "python3"
  },
  "language_info": {
   "codemirror_mode": {
    "name": "ipython",
    "version": 3
   },
   "file_extension": ".py",
   "mimetype": "text/x-python",
   "name": "python",
   "nbconvert_exporter": "python",
   "pygments_lexer": "ipython3",
   "version": "3.9.13"
  }
 },
 "nbformat": 4,
 "nbformat_minor": 5
}
