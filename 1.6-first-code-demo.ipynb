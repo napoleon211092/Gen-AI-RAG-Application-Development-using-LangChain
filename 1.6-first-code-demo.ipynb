{
 "cells": [
  {
   "cell_type": "code",
   "execution_count": 32,
   "id": "2d26ab07",
   "metadata": {},
   "outputs": [],
   "source": [
    "import os\n",
    "from dotenv import load_dotenv\n",
    "import openai\n",
    "from langchain_openai import ChatOpenAI\n",
    "from langchain_core.prompts import ChatPromptTemplate, PromptTemplate\n",
    "from langchain.chains import LLMChain"
   ]
  },
  {
   "cell_type": "code",
   "execution_count": 33,
   "id": "19225bcc",
   "metadata": {},
   "outputs": [],
   "source": [
    "# Setup model\n",
    "load_dotenv()\n",
    "api_key = os.getenv('OPENAI_API_KEY')\n",
    "openai.api_key = api_key\n",
    "#llm = ChatOpenAI(openai_api_key=api_key)"
   ]
  },
  {
   "cell_type": "code",
   "execution_count": 34,
   "id": "35de455c",
   "metadata": {},
   "outputs": [],
   "source": [
    "def demosimple1():\n",
    "    \"\"\"\n",
    "    This function demonstrates the use of the off-the-shelf LLMChain to combine the Prompt and an LLM Call to get the desired response.\n",
    "    (Chức năng này thể hiện việc sử dụng LLMChain có sẵn để kết hợp Prompt và LLM Call để nhận được phản hồi mong muốn.)\n",
    "    \"\"\"\n",
    "    # Create a Prompt Template with a embedded variable\n",
    "    template = \"\"\"Question: {question}\n",
    "    Answer: \"\"\"\n",
    "    prompt = PromptTemplate(\n",
    "                    template=template,\n",
    "                    input_variables=['question']\n",
    "            )\n",
    "    # User question\n",
    "    question = \"Which is the most popular game in USA?\"\n",
    "    # Create the language model object\n",
    "    llm = ChatOpenAI(openai_api_key=api_key)\n",
    "    # Use the LLMChain to stitch the prompt and LLM - LLMChain is used to run queries against LLMs\n",
    "    # (Sử dụng LLMChain để ghép lời nhắc và LLM - LLMChain được sử dụng để chạy truy vấn đối với LLM)\n",
    "    # The LLMChain consists of a PromptTemplate, a language model, and an optional output parser\n",
    "    llm_chain = LLMChain(prompt=prompt,llm=llm)\n",
    "    # Invoke (run) the LLMChain - The LLCHain return Dict of output name\n",
    "    response = llm_chain.invoke(question)\n",
    "    print(response)"
   ]
  },
  {
   "cell_type": "code",
   "execution_count": 35,
   "id": "6a454dee",
   "metadata": {},
   "outputs": [],
   "source": [
    "def demosimple2():\n",
    "    \"\"\"\n",
    "    This function demonstrates a simple use of LCEL (Langchain Expression Language) to create a custom Chain with the Prompt and Model.\n",
    "    \"\"\"\n",
    "    # Create the Prompt Template\n",
    "    prompt = ChatPromptTemplate.from_template(\"Tell me a few key achievements of {name}\")\n",
    "    # Create the LLM object\n",
    "    model = ChatOpenAI(openai_api_key=api_key)\n",
    "    # Create the chain\n",
    "    chain = prompt | model # This is LCEL (Langchain Expression Language)\n",
    "    # Invoke (run) the chain - The Chat Model return a Message\n",
    "    response = chain.invoke({\"name\":\"Napoleon\"})\n",
    "    print(response)"
   ]
  },
  {
   "cell_type": "code",
   "execution_count": 36,
   "id": "0ce1214a",
   "metadata": {},
   "outputs": [],
   "source": [
    "def main():\n",
    "    print(demosimple1.__doc__)\n",
    "    demosimple1()\n",
    "    \n",
    "    print(\"-------------------\")\n",
    "    \n",
    "    print(demosimple2.__doc__)\n",
    "    demosimple2()"
   ]
  },
  {
   "cell_type": "code",
   "execution_count": 37,
   "id": "729fdf3f",
   "metadata": {},
   "outputs": [
    {
     "name": "stdout",
     "output_type": "stream",
     "text": [
      "\n",
      "    This function demonstrates the use of the off-the-shelf LLMChain to combine the Prompt and an LLM Call to get the desired response.\n",
      "    (Chức năng này thể hiện việc sử dụng LLMChain có sẵn để kết hợp Prompt và LLM Call để nhận được phản hồi mong muốn.)\n",
      "    \n",
      "{'question': 'Which is the most popular game in USA?', 'text': 'As of now, the most popular game in the USA is likely to be Fortnite. It is a highly popular battle royale game that has a large player base in the country.'}\n",
      "-------------------\n",
      "\n",
      "    This function demonstrates a simple use of LCEL (Langchain Expression Language) to create a custom Chain with the Prompt and Model.\n",
      "    \n",
      "content=\"1. Napoleonic Code: Napoleon's most lasting contribution to France was the Napoleonic Code, a civil code that laid the foundation for modern legal systems in many countries around the world.\\n\\n2. Military conquests: Napoleon's military campaigns resulted in the expansion of French territory and the establishment of French hegemony over much of Europe. His victories at Austerlitz, Jena, and Wagram are considered some of the greatest military achievements in history.\\n\\n3. Reforms and modernization: Napoleon implemented a number of reforms in France, including the establishment of a centralized government, the creation of a merit-based system for promotion in the military and civil service, and the promotion of education and science.\\n\\n4. Economic reforms: Napoleon's policies helped stabilize the French economy and promote industrialization. He also established the Bank of France and introduced the franc as the country's currency.\\n\\n5. Cultural legacy: Napoleon's patronage of the arts and his establishment of the Louvre Museum helped to promote French culture and art. He also commissioned the construction of several monuments and buildings, including the Arc de Triomphe and the Vendôme Column.\" response_metadata={'token_usage': {'completion_tokens': 229, 'prompt_tokens': 15, 'total_tokens': 244}, 'model_name': 'gpt-3.5-turbo', 'system_fingerprint': 'fp_b28b39ffa8', 'finish_reason': 'stop', 'logprobs': None} id='run-a694c564-00b8-4532-9f55-414b27a9a22e-0'\n"
     ]
    }
   ],
   "source": [
    "if __name__ == \"__main__\":\n",
    "    main()"
   ]
  }
 ],
 "metadata": {
  "kernelspec": {
   "display_name": "Python 3 (ipykernel)",
   "language": "python",
   "name": "python3"
  },
  "language_info": {
   "codemirror_mode": {
    "name": "ipython",
    "version": 3
   },
   "file_extension": ".py",
   "mimetype": "text/x-python",
   "name": "python",
   "nbconvert_exporter": "python",
   "pygments_lexer": "ipython3",
   "version": "3.9.13"
  }
 },
 "nbformat": 4,
 "nbformat_minor": 5
}
