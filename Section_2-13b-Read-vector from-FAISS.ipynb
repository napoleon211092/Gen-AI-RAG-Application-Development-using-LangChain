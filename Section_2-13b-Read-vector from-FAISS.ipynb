{
 "cells": [
  {
   "cell_type": "code",
   "execution_count": 6,
   "id": "695f64fd",
   "metadata": {},
   "outputs": [
    {
     "name": "stdout",
     "output_type": "stream",
     "text": [
      "Vector 0: [ 0.00790708  0.00609855 -0.00794914 ... -0.0159123  -0.03457244\n",
      " -0.03824559]\n",
      "Vector 1: [ 0.01141489  0.00354839 -0.0007815  ... -0.00510703 -0.03024422\n",
      " -0.03747715]\n",
      "Vector 2: [ 0.00598639 -0.00826434 -0.00601012 ... -0.01248125 -0.00603046\n",
      " -0.02833874]\n"
     ]
    }
   ],
   "source": [
    "import faiss\n",
    "from langchain_community.vectorstores import FAISS\n",
    "\n",
    "# connect FAISS index\n",
    "\n",
    "# Specify the path to the .faiss index file\n",
    "index_file_path = \"C:\\\\Users\\\\ASUS\\\\anaconda3\\\\Gen-AI-RAG-Application-Development-using-LangChain\\\\faiss_index_db\\\\index.faiss\"\n",
    "\n",
    "# Load the FAISS index from the .faiss file\n",
    "index = faiss.read_index(index_file_path)\n",
    "\n",
    "# Get the number of vectors in the index\n",
    "num_vectors = index.ntotal\n",
    "\n",
    "# Print each vector\n",
    "for i in range(num_vectors):\n",
    "    # Retrieve the i-th vector from the index\n",
    "    vector = index.reconstruct(i)\n",
    "    # Print the vector\n",
    "    print(f\"Vector {i}: {vector}\")\n"
   ]
  }
 ],
 "metadata": {
  "kernelspec": {
   "display_name": "Python 3 (ipykernel)",
   "language": "python",
   "name": "python3"
  },
  "language_info": {
   "codemirror_mode": {
    "name": "ipython",
    "version": 3
   },
   "file_extension": ".py",
   "mimetype": "text/x-python",
   "name": "python",
   "nbconvert_exporter": "python",
   "pygments_lexer": "ipython3",
   "version": "3.9.13"
  }
 },
 "nbformat": 4,
 "nbformat_minor": 5
}
