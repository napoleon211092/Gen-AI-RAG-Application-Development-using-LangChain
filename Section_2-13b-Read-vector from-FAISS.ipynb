{
 "cells": [
  {
   "cell_type": "code",
   "execution_count": 5,
   "id": "fe4d636a",
   "metadata": {},
   "outputs": [
    {
     "name": "stdout",
     "output_type": "stream",
     "text": [
      "<faiss.swigfaiss_avx2.IndexFlatL2; proxy of <Swig Object of type 'faiss::IndexFlatL2 *' at 0x000001F4CD0DCF30> >\n"
     ]
    }
   ],
   "source": [
    "import faiss\n",
    "from langchain_community.vectorstores import FAISS\n",
    "\n",
    "# connect FAISS index\n",
    "import faiss\n",
    "\n",
    "# Specify the path to the .faiss index file\n",
    "index_file_path = \"C:\\\\Users\\\\ASUS\\\\anaconda3\\\\Gen-AI-RAG-Application-Development-using-LangChain\\\\faiss_index_db\\\\index.faiss\"\n",
    "\n",
    "# Load the FAISS index from the .faiss file\n",
    "index = faiss.read_index(index_file_path)\n",
    "print(index)\n"
   ]
  }
 ],
 "metadata": {
  "kernelspec": {
   "display_name": "Python 3 (ipykernel)",
   "language": "python",
   "name": "python3"
  },
  "language_info": {
   "codemirror_mode": {
    "name": "ipython",
    "version": 3
   },
   "file_extension": ".py",
   "mimetype": "text/x-python",
   "name": "python",
   "nbconvert_exporter": "python",
   "pygments_lexer": "ipython3",
   "version": "3.9.13"
  }
 },
 "nbformat": 4,
 "nbformat_minor": 5
}
