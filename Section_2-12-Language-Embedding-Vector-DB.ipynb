{
 "cells": [
  {
   "cell_type": "markdown",
   "id": "461dca1d",
   "metadata": {},
   "source": [
    "# Language Embeddings\n",
    "\n",
    "A <b>vector embedding</b>, or simply an <b>\"embedding\"</b> is a vector created as the numerical representation of typically non-numerical data objects such as Natural Language, Image, Sound, or Video.\n",
    "\n",
    "<i>(Vector Embedding là một vectơ được tạo dưới dạng biểu diễn số của các đối tượng dữ liệu phi số thông thường như Ngôn ngữ tự nhiên, Hình ảnh, Âm thanh hoặc Video.)</i>\n",
    "\n",
    "- Embeddings capture the inherent properties and relationships of the original data in a numerical vector format and are often used in Machine Learning use cases. <i>(Embeddings nắm bắt các thuộc tính và mối quan hệ vốn có của dữ liệu gốc ở định dạng vectơ số và thường được sử dụng trong các trường hợp sử dụng Machine Learning.)</i>\n",
    "- In the case of NLP,  embedding vectors capture the semantic and syntactic senses.<i>(Trong trường hợp NLP, embedding vectors nắm bắt được ý nghĩa ngữ nghĩa và cú pháp.)</i>\n",
    "- The transformation process from the original data is performed by what's known as an \"embedding model\" and involves complex machine learning techniques, including sophisticated neural networks.<i>(Quá trình chuyển đổi từ dữ liệu gốc được thực hiện bằng cái được gọi là \"mô hình nhúng\" và bao gồm các kỹ thuật học máy phức tạp, bao gồm cả mạng lưới thần kinh phức tạp.)</i>"
   ]
  },
  {
   "cell_type": "markdown",
   "id": "9acae045",
   "metadata": {},
   "source": [
    "![embedding](embedding.png)"
   ]
  },
  {
   "cell_type": "markdown",
   "id": "d5d3cac8",
   "metadata": {},
   "source": [
    "## Text Embeddings\n",
    "Text embedding captures the semantic meaning of words and their relationships within a language. For example, they could encode semantic similarities between words, such as \"king\" being closer to \"queen\" than to \"car\".\n",
    "\n",
    "<i>(Text embedding nắm bắt ý nghĩa ngữ nghĩa của các từ và mối quan hệ của chúng trong một ngôn ngữ. Ví dụ: họ có thể mã hóa những điểm tương đồng về ngữ nghĩa giữa các từ, chẳng hạn như \"vua\" gần với \"nữ hoàng\" hơn là \"xe hơi\".)</i>\n",
    "\n",
    "<b>Common Text Embedding Models used for generating text embedding vectors include:</b>\n",
    "\n",
    "- <b>TF-IDF (Term Frequency - Inverse Document Frequency)</b> creates sparse embeddings by assigning weights to words based on their occurrence frequency in a document relative to their prevalence across the entire dataset. → <i>(TF-IDF (Tần suất thuật ngữ - Tần suất tài liệu nghịch đảo) tạo ra các phần nhúng thưa thớt bằng cách gán trọng số cho các từ dựa trên tần suất xuất hiện của chúng trong tài liệu so với mức độ phổ biến của chúng trên toàn bộ tập dữ liệu.)</i>\n",
    "\n",
    "- <b>Word2Vec</b> creates dense vector representations that capture semantic relationships by training a neural network to predict words in context. → <i>(Word2Vec tạo ra các biểu diễn vectơ dày đặc nhằm nắm bắt các mối quan hệ ngữ nghĩa bằng cách huấn luyện mạng lưới thần kinh để dự đoán các từ trong ngữ cảnh.)</i>\n",
    "\n",
    "- <b>BERT (Bidirectional Encoder Representations from Transformers)</b> creates context-rich embeddings that capture bidirectional dependencies by using a transformer model to predict masked words in sentences. → <i>(BERT (Biểu diễn bộ mã hóa hai chiều từ Transformers) tạo ra các phần nhúng giàu ngữ cảnh để nắm bắt các mối phụ thuộc hai chiều bằng cách sử dụng transformers model để dự đoán các từ bị ẩn trong câu.)</i>"
   ]
  },
  {
   "cell_type": "markdown",
   "id": "392ee2eb",
   "metadata": {},
   "source": [
    "<b>What can we do with these vector embeddings once we have obtained them?</b>\n",
    "(Chúng ta có thể làm gì với các vectơ nhúng này sau khi đã có được chúng?)\n",
    "\n",
    "- <b>Similarity search</b>: Use embeddings to measure the similarity between different instances. For example, in NLP, you can find similar documents or identify related words based on their embeddings. → <i>(Sử dụng các phần nhúng để đo lường sự giống nhau giữa các phiên bản khác nhau. Ví dụ: trong NLP, bạn có thể tìm thấy các tài liệu tương tự hoặc xác định các từ liên quan dựa trên phần nhúng của chúng.)</i>\n",
    "- <b>Clustering and classification</b>: Use embeddings as the input features for clustering and classification models to train machine-learning algorithms to group similar instances and classify objects. → <i>(Sử dụng các phần nhúng làm tính năng đầu vào cho các mô hình phân cụm và phân loại để huấn luyện các thuật toán học máy để nhóm các trường hợp tương tự và phân loại các đối tượng.)</i>\n",
    "- <b>Information retrieval</b>: Use embeddings to build powerful search engines to find relevant documents or media based on user requirements. → <i>(Sử dụng phần nhúng để xây dựng các công cụ tìm kiếm mạnh mẽ để tìm các tài liệu hoặc phương tiện có liên quan dựa trên yêu cầu của người dùng.)</i>\n",
    "- <b>Recommendation systems</b>: leverage embeddings to recommend related products, articles, or media based on user preferences and historical data. → <i>(Tận dụng tính năng nhúng để đề xuất các sản phẩm, bài viết hoặc phương tiện liên quan dựa trên sở thích của người dùng và dữ liệu lịch sử.)</i>\n",
    "- <b>Visualizations</b>: visualize embeddings in lower-dimensional spaces to gain insights into the relationships and patterns within the data. → <i>(Trực quan hóa các phần nhúng trong không gian có chiều thấp hơn để hiểu rõ hơn về các mối quan hệ và mẫu trong dữ liệu.)</i>\n",
    "- <b>Transfer learning</b>: Use pre-trained embeddings as a starting point for new tasks, allowing you to leverage existing knowledge and reduce the need for extensive training. → <i>(Sử dụng các phần nhúng được đào tạo trước làm điểm khởi đầu cho các nhiệm vụ mới, cho phép bạn tận dụng kiến thức hiện có và giảm nhu cầu đào tạo chuyên sâu.\n",
    ")</i>"
   ]
  },
  {
   "cell_type": "markdown",
   "id": "62a14f7b",
   "metadata": {},
   "source": [
    "# Vector Databases\n",
    "\n",
    "<b>Vector databases</b> provide the ability to store and retrieve <b>Embedding Vectors</b> as high-dimensional points. They add additional capabilities for efficient and fast lookup of <b>nearest neighbors in the N-dimensional space</b>. They are typically powered by k-NN indexes. Vector databases provide additional capabilities like data management, fault tolerance, authentication and access control, and a query engine.\n",
    "\n",
    "<i>(Cơ sở dữ liệu vectơ cung cấp khả năng lưu trữ và truy xuất các vectơ nhúng dưới dạng điểm chiều cao. Chúng bổ sung thêm các khả năng bổ sung để tra cứu hiệu quả và nhanh chóng các lân cận gần nhất trong không gian N chiều. Chúng thường được cung cấp bởi các chỉ mục k-NN. Cơ sở dữ liệu vectơ cung cấp các khả năng bổ sung như quản lý dữ liệu, khả năng chịu lỗi, xác thực và kiểm soát truy cập cũng như công cụ truy vấn.)</i>\n",
    "![vector-db](vector-db.png)"
   ]
  },
  {
   "cell_type": "markdown",
   "id": "8011a924",
   "metadata": {},
   "source": [
    "- Vector databases are specialized databases that index and store vector embeddings for fast retrieval and similarity search. → <i>(Cơ sở dữ liệu vectơ là cơ sở dữ liệu chuyên biệt lập chỉ mục và lưu trữ các phần nhúng vectơ để truy xuất nhanh và tìm kiếm tương tự.)</i>\n",
    "- They often have comprehensive data management capabilities, allowing for metadata storage, filtering, and dynamic query based on associate metadata. → <i>(Chúng thường có khả năng quản lý dữ liệu toàn diện, cho phép lưu trữ, lọc và truy vấn động dựa trên siêu dữ liệu liên kết.)</i>\n",
    "- Vector databases are scalable and can handle large columns of vector data storage, ensuring high performance as data columns grow. → <i>(Cơ sở dữ liệu vectơ có khả năng mở rộng và có thể xử lý các cột lưu trữ dữ liệu vectơ lớn, đảm bảo hiệu suất cao khi các cột dữ liệu tăng lên.)</i>\n",
    "- They support real-time updates, making it possible to dynamically change and update data without compromising performance. → <i>( Chúng hỗ trợ cập nhật theo thời gian thực, cho phép thay đổi và cập nhật dữ liệu một cách linh hoạt mà không ảnh hưởng đến hiệu suất.)</i>\n",
    "- Vector databases integrate seamlessly with other components of the data processing ecosystem, enabling end-to-end data workflows. → <i>(Cơ sở dữ liệu vectơ tích hợp hoàn hảo với các thành phần khác của hệ sinh thái xử lý dữ liệu, cho phép luồng công việc dữ liệu từ đầu đến cuối.)</i>\n",
    "- They play a crucial role in AI and machine learning applications, enabling advanced features like semantic information retrieval and long-term memory. → <i>(Chúng đóng vai trò quan trọng trong các ứng dụng AI và máy học, hỗ trợ các tính năng nâng cao như truy xuất thông tin ngữ nghĩa và trí nhớ dài hạn.)</i>"
   ]
  },
  {
   "cell_type": "markdown",
   "id": "37984926",
   "metadata": {},
   "source": [
    "## How do vector DB work\n",
    "\n",
    "- In contrast to traditional databases that store scalar values in rows and columns, vector databases operate on vectors, making them well-suited for handling vector data efficiently. → <i>(Ngược lại với cơ sở dữ liệu truyền thống lưu trữ các giá trị vô hướng theo hàng và cột, cơ sở dữ liệu vectơ hoạt động trên vectơ nên rất phù hợp để xử lý dữ liệu vectơ một cách hiệu quả.)</i>\n",
    "- Vector databases utilize algorithms for approximate nearest neighbor (ANN) search to optimize the semantic search process. These algorithms play a crucial role in finding similar vectors from the database. → <i>(Cơ sở dữ liệu vectơ sử dụng thuật toán tìm kiếm lân cận gần nhất (ANN) để tối ưu hóa quá trình tìm kiếm ngữ nghĩa. Các thuật toán này đóng một vai trò quan trọng trong việc tìm kiếm các vectơ tương tự từ cơ sở dữ liệu.)</i>\n",
    "- A vector database uses Indexing algorithms like Product Quantization (PQ), Locality-Sensitive Hashing (LSH), or Hierarchical Navigable Small World (HNSW) to map vectors to a data structure that enables faster searching. → <i>(Cơ sở dữ liệu vectơ sử dụng các thuật toán PQ, LSH) hoặc HNSW để ánh xạ vectơ tới cấu trúc dữ liệu cho phép tìm kiếm nhanh hơn.)</i>\n",
    "- Once the vectors are indexed, querying algorithms come into play. These algorithms compare the indexed query vector to the indexed vectors in the dataset to find the nearest neighbors. By performing distance calculations, such as Euclidean distance or cosine similarity, the system identifies the most similar vectors. → <i>(Sau khi các vectơ được lập chỉ mục, các thuật toán truy vấn sẽ phát huy tác dụng. Các thuật toán này so sánh vectơ truy vấn được lập chỉ mục với các vectơ được lập chỉ mục trong tập dữ liệu để tìm các vectơ lân cận gần nhất. Bằng cách thực hiện các phép tính khoảng cách, chẳng hạn như khoảng cách Euclide hoặc độ tương tự cosin, hệ thống sẽ xác định các vectơ giống nhau nhất.)</i>\n",
    "- Post-processing steps may be applied to retrieve the final nearest neighbors and re-rank them using a different similarity measure. This post-processing ensures that the most relevant results are presented to the user, enhancing the accuracy of the similarity search. → <i>(Các bước xử lý hậu kỳ có thể được áp dụng để truy xuất các hàng xóm gần nhất cuối cùng và sắp xếp lại chúng bằng cách sử dụng thước đo độ tương tự khác. Quá trình xử lý hậu kỳ này đảm bảo rằng các kết quả phù hợp nhất được hiển thị cho người dùng, nâng cao tính chính xác của tìm kiếm tương tự.)</i>"
   ]
  },
  {
   "cell_type": "markdown",
   "id": "fb861a57",
   "metadata": {},
   "source": [
    "## Vector Databases & Vector Index\n",
    "\n",
    "- While a standalone <b>Vector Index like FAISS or ChromaDB</b> can store, search, and retrieve vector embeddings, they lack the robust capabilities offered by <b>Vector Databases such as Pinecone, Milvus, and Weaviate</b>. → <i>(Mặc dù Chỉ mục vectơ độc lập như FAISS hoặc ChromaDB có thể lưu trữ, tìm kiếm và truy xuất các phần nhúng vectơ nhưng chúng thiếu các khả năng mạnh mẽ được cung cấp bởi Cơ sở dữ liệu vectơ như Pinecone, Milvus và Weaviate.)</i>\n",
    "\n",
    "- Vector databases provide well-known and easy-to-use features for <b>data storage, such as inserting, deleting, and updating Vector data</b>. → <i>(Cơ sở dữ liệu vectơ cung cấp các tính năng nổi tiếng và dễ sử dụng để lưu trữ dữ liệu, chẳng hạn như chèn, xóa và cập nhật dữ liệu Vector.\n",
    ")</i>\n",
    "\n",
    "- They are designed to handle growing data volumes and user demand (scalability), ensuring optimal performance and supporting distributed and parallel processing. → <i>(Chúng được thiết kế để xử lý khối lượng dữ liệu ngày càng tăng và nhu cầu của người dùng (khả năng mở rộng), đảm bảo hiệu suất tối ưu và hỗ trợ xử lý song song và phân tán.)</i>\n",
    "\n",
    "- Vector databases handle routine operations like <b>backups and collections</b>. → <i>(Cơ sở dữ liệu vectơ xử lý các hoạt động thông thường như sao lưu và thu thập.)</i>\n",
    "\n",
    "- Vector databases offer <b>built-in data security features and access control mechanisms</b> to protect sensitive information. → <i>(Cơ sở dữ liệu vectơ cung cấp các tính năng bảo mật dữ liệu tích hợp và cơ chế kiểm soát truy cập để bảo vệ thông tin nhạy cảm.)</i>\n"
   ]
  }
 ],
 "metadata": {
  "kernelspec": {
   "display_name": "Python 3 (ipykernel)",
   "language": "python",
   "name": "python3"
  },
  "language_info": {
   "codemirror_mode": {
    "name": "ipython",
    "version": 3
   },
   "file_extension": ".py",
   "mimetype": "text/x-python",
   "name": "python",
   "nbconvert_exporter": "python",
   "pygments_lexer": "ipython3",
   "version": "3.9.13"
  }
 },
 "nbformat": 4,
 "nbformat_minor": 5
}
