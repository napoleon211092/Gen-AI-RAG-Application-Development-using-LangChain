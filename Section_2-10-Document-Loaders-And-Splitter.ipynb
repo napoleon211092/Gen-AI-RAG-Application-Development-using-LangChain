{
 "cells": [
  {
   "cell_type": "markdown",
   "id": "3ea3de8a",
   "metadata": {},
   "source": [
    "### Documents \n",
    "\n",
    "<b>Documents</b> in Langchain comprise a piece of <b>text</b> and optional <b>metadata</b>. The piece of text is what we interact with the language model, while the optional metadata helps keep track of metadata about the document.\n",
    "\n",
    "<i>→ <b>Documents</b>  trong Langchain bao gồm một đoạn văn bản và siêu dữ liệu tùy chọn. Đoạn văn bản là những gì chúng ta tương tác với mô hình ngôn ngữ, trong khi siêu dữ liệu tùy chọn giúp theo dõi siêu dữ liệu về tài liệu.</i>"
   ]
  },
  {
   "cell_type": "markdown",
   "id": "cd5b350a",
   "metadata": {},
   "source": [
    "### Document Loaders\n",
    "Document Loaders in Langchain load data from a source as documents."
   ]
  },
  {
   "cell_type": "code",
   "execution_count": 1,
   "id": "4cfcd247",
   "metadata": {},
   "outputs": [],
   "source": [
    "import os\n",
    "from dotenv import load_dotenv\n",
    "import openai\n",
    "from langchain_openai import OpenAI, ChatOpenAI"
   ]
  },
  {
   "cell_type": "code",
   "execution_count": 2,
   "id": "f964d03a",
   "metadata": {},
   "outputs": [],
   "source": [
    "# Setup model\n",
    "load_dotenv()\n",
    "api_key = os.getenv('OPENAI_API_KEY')\n",
    "openai.api_key = api_key"
   ]
  },
  {
   "cell_type": "code",
   "execution_count": 6,
   "id": "1fad9e96",
   "metadata": {},
   "outputs": [
    {
     "name": "stdout",
     "output_type": "stream",
     "text": [
      "[Document(page_content='Quod equidem non reprehendo;\\nLorem ipsum dolor sit amet, consectetur adipiscing elit. Quibus natura iure responderit non esse verum aliunde finem beate vivendi, a se principia rei gerendae peti; Quae enim adhuc protulisti, popularia sunt, ego autem a te elegantiora desidero. Duo Reges: constructio interrete. Tum Lucius: Mihi vero ista valde probata sunt, quod item fratri puto. Bestiarum vero nullum iudicium puto. Nihil enim iam habes, quod ad corpus referas; Deinde prima illa, quae in congressu solemus: Quid tu, inquit, huc? Et homini, qui ceteris animantibus plurimum praestat, praecipue a natura nihil datum esse dicemus?\\n\\nIam id ipsum absurdum, maximum malum neglegi. Quod ea non occurrentia fingunt, vincunt Aristonem; Atqui perspicuum est hominem e corpore animoque constare, cum primae sint animi partes, secundae corporis. Fieri, inquam, Triari, nullo pacto potest, ut non dicas, quid non probes eius, a quo dissentias. Equidem e Cn. An dubium est, quin virtus ita maximam partem optineat in rebus humanis, ut reliquas obruat?\\n\\nQuis istum dolorem timet?\\nSummus dolor plures dies manere non potest? Dicet pro me ipsa virtus nec dubitabit isti vestro beato M. Tubulum fuisse, qua illum, cuius is condemnatus est rogatione, P. Quod si ita sit, cur opera philosophiae sit danda nescio.\\n\\nEx eorum enim scriptis et institutis cum omnis doctrina liberalis, omnis historia.\\nQuod si ita est, sequitur id ipsum, quod te velle video, omnes semper beatos esse sapientes. Cum enim fertur quasi torrens oratio, quamvis multa cuiusque modi rapiat, nihil tamen teneas, nihil apprehendas, nusquam orationem rapidam coerceas. Ita redarguitur ipse a sese, convincunturque scripta eius probitate ipsius ac moribus. At quanta conantur! Mundum hunc omnem oppidum esse nostrum! Incendi igitur eos, qui audiunt, vides. Vide, ne magis, inquam, tuum fuerit, cum re idem tibi, quod mihi, videretur, non nova te rebus nomina inponere. Qui-vere falsone, quaerere mittimus-dicitur oculis se privasse; Si ista mala sunt, in quae potest incidere sapiens, sapientem esse non esse ad beate vivendum satis. At vero si ad vitem sensus accesserit, ut appetitum quendam habeat et per se ipsa moveatur, quid facturam putas?\\n\\nQuem si tenueris, non modo meum Ciceronem, sed etiam me ipsum abducas licebit.\\nStulti autem malorum memoria torquentur, sapientes bona praeterita grata recordatione renovata delectant.\\nEsse enim quam vellet iniquus iustus poterat inpune.\\nQuae autem natura suae primae institutionis oblita est?\\nVerum tamen cum de rebus grandioribus dicas, ipsae res verba rapiunt;\\nHoc est non modo cor non habere, sed ne palatum quidem.\\nVoluptatem cum summum bonum diceret, primum in eo ipso parum vidit, deinde hoc quoque alienum; Sed tu istuc dixti bene Latine, parum plane. Nam haec ipsa mihi erunt in promptu, quae modo audivi, nec ante aggrediar, quam te ab istis, quos dicis, instructum videro. Fatebuntur Stoici haec omnia dicta esse praeclare, neque eam causam Zenoni desciscendi fuisse. Non autem hoc: igitur ne illud quidem. Ratio quidem vestra sic cogit. Cum audissem Antiochum, Brute, ut solebam, cum M. An quod ita callida est, ut optime possit architectari voluptates?\\n\\nIdemne, quod iucunde?\\nHaec mihi videtur delicatior, ut ita dicam, molliorque ratio, quam virtutis vis gravitasque postulat. Sed quoniam et advesperascit et mihi ad villam revertendum est, nunc quidem hactenus; Cuius ad naturam apta ratio vera illa et summa lex a philosophis dicitur. Neque solum ea communia, verum etiam paria esse dixerunt. Sed nunc, quod agimus; A mene tu?', metadata={'source': 'sample.txt'})]\n"
     ]
    }
   ],
   "source": [
    "from langchain.document_loaders import TextLoader\n",
    "\n",
    "# load text data from a file using TextLoader\n",
    "loader = TextLoader(\"sample.txt\")\n",
    "document = loader.load()\n",
    "print(document)"
   ]
  },
  {
   "cell_type": "code",
   "execution_count": 8,
   "id": "00930218",
   "metadata": {},
   "outputs": [
    {
     "data": {
      "text/plain": [
       "'Quod equidem non reprehendo;\\nLorem ipsum dolor sit amet, consectetur adipiscing elit. Quibus natura iure responderit non esse verum aliunde finem beate vivendi, a se principia rei gerendae peti; Quae enim adhuc protulisti, popularia sunt, ego autem a te elegantiora desidero. Duo Reges: constructio interrete. Tum Lucius: Mihi vero ista valde probata sunt, quod item fratri puto. Bestiarum vero nullum iudicium puto. Nihil enim iam habes, quod ad corpus referas; Deinde prima illa, quae in congressu solemus: Quid tu, inquit, huc? Et homini, qui ceteris animantibus plurimum praestat, praecipue a natura nihil datum esse dicemus?\\n\\nIam id ipsum absurdum, maximum malum neglegi. Quod ea non occurrentia fingunt, vincunt Aristonem; Atqui perspicuum est hominem e corpore animoque constare, cum primae sint animi partes, secundae corporis. Fieri, inquam, Triari, nullo pacto potest, ut non dicas, quid non probes eius, a quo dissentias. Equidem e Cn. An dubium est, quin virtus ita maximam partem optineat in rebus humanis, ut reliquas obruat?\\n\\nQuis istum dolorem timet?\\nSummus dolor plures dies manere non potest? Dicet pro me ipsa virtus nec dubitabit isti vestro beato M. Tubulum fuisse, qua illum, cuius is condemnatus est rogatione, P. Quod si ita sit, cur opera philosophiae sit danda nescio.\\n\\nEx eorum enim scriptis et institutis cum omnis doctrina liberalis, omnis historia.\\nQuod si ita est, sequitur id ipsum, quod te velle video, omnes semper beatos esse sapientes. Cum enim fertur quasi torrens oratio, quamvis multa cuiusque modi rapiat, nihil tamen teneas, nihil apprehendas, nusquam orationem rapidam coerceas. Ita redarguitur ipse a sese, convincunturque scripta eius probitate ipsius ac moribus. At quanta conantur! Mundum hunc omnem oppidum esse nostrum! Incendi igitur eos, qui audiunt, vides. Vide, ne magis, inquam, tuum fuerit, cum re idem tibi, quod mihi, videretur, non nova te rebus nomina inponere. Qui-vere falsone, quaerere mittimus-dicitur oculis se privasse; Si ista mala sunt, in quae potest incidere sapiens, sapientem esse non esse ad beate vivendum satis. At vero si ad vitem sensus accesserit, ut appetitum quendam habeat et per se ipsa moveatur, quid facturam putas?\\n\\nQuem si tenueris, non modo meum Ciceronem, sed etiam me ipsum abducas licebit.\\nStulti autem malorum memoria torquentur, sapientes bona praeterita grata recordatione renovata delectant.\\nEsse enim quam vellet iniquus iustus poterat inpune.\\nQuae autem natura suae primae institutionis oblita est?\\nVerum tamen cum de rebus grandioribus dicas, ipsae res verba rapiunt;\\nHoc est non modo cor non habere, sed ne palatum quidem.\\nVoluptatem cum summum bonum diceret, primum in eo ipso parum vidit, deinde hoc quoque alienum; Sed tu istuc dixti bene Latine, parum plane. Nam haec ipsa mihi erunt in promptu, quae modo audivi, nec ante aggrediar, quam te ab istis, quos dicis, instructum videro. Fatebuntur Stoici haec omnia dicta esse praeclare, neque eam causam Zenoni desciscendi fuisse. Non autem hoc: igitur ne illud quidem. Ratio quidem vestra sic cogit. Cum audissem Antiochum, Brute, ut solebam, cum M. An quod ita callida est, ut optime possit architectari voluptates?\\n\\nIdemne, quod iucunde?\\nHaec mihi videtur delicatior, ut ita dicam, molliorque ratio, quam virtutis vis gravitasque postulat. Sed quoniam et advesperascit et mihi ad villam revertendum est, nunc quidem hactenus; Cuius ad naturam apta ratio vera illa et summa lex a philosophis dicitur. Neque solum ea communia, verum etiam paria esse dixerunt. Sed nunc, quod agimus; A mene tu?'"
      ]
     },
     "execution_count": 8,
     "metadata": {},
     "output_type": "execute_result"
    }
   ],
   "source": [
    "document[0].page_content"
   ]
  },
  {
   "cell_type": "code",
   "execution_count": 9,
   "id": "e5cdb400",
   "metadata": {},
   "outputs": [
    {
     "data": {
      "text/plain": [
       "{'source': 'sample.txt'}"
      ]
     },
     "execution_count": 9,
     "metadata": {},
     "output_type": "execute_result"
    }
   ],
   "source": [
    "document[0].metadata"
   ]
  },
  {
   "cell_type": "markdown",
   "id": "a59d22ef",
   "metadata": {},
   "source": [
    "### Types of Document Loaders in Langchain\n",
    "\n",
    "Langchain offers three main types of Document Loaders:\n",
    "\n",
    "- Transform Loaders: these loaders handle different input formats and transform them into the Document format. For instance, consider a CSV file named \"data.csv\" with columns for \"name\" and \"age\".Using the CSVloader, you can load the CSV data into Documents.\n",
    "\n",
    "    <i>(Các Transform Loaders này xử lý các định dạng đầu vào khác nhau và chuyển đổi chúng thành định dạng Document. Ví dụ: hãy xem xét tệp CSV có tên \"data.csv\" với các cột cho \"tên\" và \"tuổi\". Bằng cách sử dụng <b>CSVloader</b>, bạn có thể tải dữ liệu CSV vào Document.)</i>\n",
    "    \n",
    "- Public Dataset or Service Loaders: Langchain provides loaders for popular public sources, allowing quick retrieval and creation of Documents. For example, WikipediaLoader can load content from Wikipedia.\n",
    "\n",
    "    <i>(Langchain cung cấp loader cho các nguồn công cộng phổ biến, cho phép truy xuất và tạo Document nhanh chóng. Ví dụ: WikipediaLoader có thể tải nội dung từ Wikipedia)</i>\n",
    "    \n",
    "- Proprietary Dataset or Service Loaders: these loaders are designed to handle propriety sources that may require additional authentication or setup. For instance, a loader could be created to load data from an internal database or an API with propriety access.\n",
    "\n",
    "    <i>(Những Loader này được thiết kế để xử lý các nguồn độc quyền có thể yêu cầu xác thực hoặc thiết lập bổ sung. Chẳng hạn, một trình tải có thể được tạo để tải dữ liệu từ cơ sở dữ liệu nội bộ hoặc API có quyền truy cập riêng.)</i>\n"
   ]
  },
  {
   "cell_type": "code",
   "execution_count": null,
   "id": "d0e47922",
   "metadata": {},
   "outputs": [],
   "source": []
  }
 ],
 "metadata": {
  "kernelspec": {
   "display_name": "Python 3 (ipykernel)",
   "language": "python",
   "name": "python3"
  },
  "language_info": {
   "codemirror_mode": {
    "name": "ipython",
    "version": 3
   },
   "file_extension": ".py",
   "mimetype": "text/x-python",
   "name": "python",
   "nbconvert_exporter": "python",
   "pygments_lexer": "ipython3",
   "version": "3.9.13"
  }
 },
 "nbformat": 4,
 "nbformat_minor": 5
}
